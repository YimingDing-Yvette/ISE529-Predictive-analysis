{
 "cells": [
  {
   "cell_type": "code",
   "execution_count": 1,
   "metadata": {},
   "outputs": [],
   "source": [
    "import numpy as np\n",
    "from numpy import matrix\n",
    "import pandas as pd\n",
    "import matplotlib.pyplot as plt\n",
    "import seaborn as sns\n",
    "from sklearn.linear_model import LinearRegression"
   ]
  },
  {
   "cell_type": "code",
   "execution_count": 2,
   "metadata": {},
   "outputs": [],
   "source": [
    "df1 = pd.read_csv(\"homes.csv\")"
   ]
  },
  {
   "cell_type": "code",
   "execution_count": 3,
   "metadata": {},
   "outputs": [
    {
     "data": {
      "text/plain": [
       "price       int64\n",
       "area        int64\n",
       "beds        int64\n",
       "baths       int64\n",
       "garage      int64\n",
       "year        int64\n",
       "style       int64\n",
       "lotsize     int64\n",
       "ac         object\n",
       "pool       object\n",
       "quality    object\n",
       "highway    object\n",
       "dtype: object"
      ]
     },
     "execution_count": 3,
     "metadata": {},
     "output_type": "execute_result"
    }
   ],
   "source": [
    "df1.dtypes"
   ]
  },
  {
   "cell_type": "code",
   "execution_count": 563,
   "metadata": {},
   "outputs": [],
   "source": [
    "df1[\"year\"] = 2001 - df1[\"year\"] # substitute year to age"
   ]
  },
  {
   "cell_type": "code",
   "execution_count": 564,
   "metadata": {
    "scrolled": true
   },
   "outputs": [],
   "source": [
    "# change the column name year to age\n",
    "df1.rename(columns = {\"year\":\"age\"},\n",
    "          inplace = True)"
   ]
  },
  {
   "cell_type": "code",
   "execution_count": 565,
   "metadata": {},
   "outputs": [
    {
     "data": {
      "text/html": [
       "<div>\n",
       "<style scoped>\n",
       "    .dataframe tbody tr th:only-of-type {\n",
       "        vertical-align: middle;\n",
       "    }\n",
       "\n",
       "    .dataframe tbody tr th {\n",
       "        vertical-align: top;\n",
       "    }\n",
       "\n",
       "    .dataframe thead th {\n",
       "        text-align: right;\n",
       "    }\n",
       "</style>\n",
       "<table border=\"1\" class=\"dataframe\">\n",
       "  <thead>\n",
       "    <tr style=\"text-align: right;\">\n",
       "      <th></th>\n",
       "      <th>price</th>\n",
       "      <th>area</th>\n",
       "      <th>beds</th>\n",
       "      <th>baths</th>\n",
       "      <th>garage</th>\n",
       "      <th>age</th>\n",
       "      <th>style</th>\n",
       "      <th>lotsize</th>\n",
       "      <th>ac</th>\n",
       "      <th>pool</th>\n",
       "      <th>quality</th>\n",
       "      <th>highway</th>\n",
       "    </tr>\n",
       "  </thead>\n",
       "  <tbody>\n",
       "    <tr>\n",
       "      <th>0</th>\n",
       "      <td>360000</td>\n",
       "      <td>3032</td>\n",
       "      <td>4</td>\n",
       "      <td>4</td>\n",
       "      <td>2</td>\n",
       "      <td>29</td>\n",
       "      <td>1</td>\n",
       "      <td>22221</td>\n",
       "      <td>YES</td>\n",
       "      <td>NO</td>\n",
       "      <td>MEDIUM</td>\n",
       "      <td>NO</td>\n",
       "    </tr>\n",
       "    <tr>\n",
       "      <th>1</th>\n",
       "      <td>340000</td>\n",
       "      <td>2058</td>\n",
       "      <td>4</td>\n",
       "      <td>2</td>\n",
       "      <td>2</td>\n",
       "      <td>25</td>\n",
       "      <td>1</td>\n",
       "      <td>22912</td>\n",
       "      <td>YES</td>\n",
       "      <td>NO</td>\n",
       "      <td>MEDIUM</td>\n",
       "      <td>NO</td>\n",
       "    </tr>\n",
       "    <tr>\n",
       "      <th>2</th>\n",
       "      <td>250000</td>\n",
       "      <td>1780</td>\n",
       "      <td>4</td>\n",
       "      <td>3</td>\n",
       "      <td>2</td>\n",
       "      <td>21</td>\n",
       "      <td>1</td>\n",
       "      <td>21345</td>\n",
       "      <td>YES</td>\n",
       "      <td>NO</td>\n",
       "      <td>MEDIUM</td>\n",
       "      <td>NO</td>\n",
       "    </tr>\n",
       "    <tr>\n",
       "      <th>3</th>\n",
       "      <td>205500</td>\n",
       "      <td>1638</td>\n",
       "      <td>4</td>\n",
       "      <td>2</td>\n",
       "      <td>2</td>\n",
       "      <td>38</td>\n",
       "      <td>1</td>\n",
       "      <td>17342</td>\n",
       "      <td>YES</td>\n",
       "      <td>NO</td>\n",
       "      <td>MEDIUM</td>\n",
       "      <td>NO</td>\n",
       "    </tr>\n",
       "    <tr>\n",
       "      <th>4</th>\n",
       "      <td>275500</td>\n",
       "      <td>2196</td>\n",
       "      <td>4</td>\n",
       "      <td>3</td>\n",
       "      <td>2</td>\n",
       "      <td>33</td>\n",
       "      <td>7</td>\n",
       "      <td>21786</td>\n",
       "      <td>YES</td>\n",
       "      <td>NO</td>\n",
       "      <td>MEDIUM</td>\n",
       "      <td>NO</td>\n",
       "    </tr>\n",
       "  </tbody>\n",
       "</table>\n",
       "</div>"
      ],
      "text/plain": [
       "    price  area  beds  baths  garage  age  style  lotsize   ac pool quality  \\\n",
       "0  360000  3032     4      4       2   29      1    22221  YES   NO  MEDIUM   \n",
       "1  340000  2058     4      2       2   25      1    22912  YES   NO  MEDIUM   \n",
       "2  250000  1780     4      3       2   21      1    21345  YES   NO  MEDIUM   \n",
       "3  205500  1638     4      2       2   38      1    17342  YES   NO  MEDIUM   \n",
       "4  275500  2196     4      3       2   33      7    21786  YES   NO  MEDIUM   \n",
       "\n",
       "  highway  \n",
       "0      NO  \n",
       "1      NO  \n",
       "2      NO  \n",
       "3      NO  \n",
       "4      NO  "
      ]
     },
     "execution_count": 565,
     "metadata": {},
     "output_type": "execute_result"
    }
   ],
   "source": [
    "df1.head()"
   ]
  },
  {
   "cell_type": "markdown",
   "metadata": {},
   "source": [
    "### Question1.  Fit a model with one predictor ( # of bedrooms), what is the estimated increase in average price?"
   ]
  },
  {
   "cell_type": "code",
   "execution_count": 566,
   "metadata": {},
   "outputs": [],
   "source": [
    "beds = df1[\"beds\"]\n",
    "price = df1[\"price\"]"
   ]
  },
  {
   "cell_type": "code",
   "execution_count": 567,
   "metadata": {},
   "outputs": [
    {
     "data": {
      "text/plain": [
       "(522,)"
      ]
     },
     "execution_count": 567,
     "metadata": {},
     "output_type": "execute_result"
    }
   ],
   "source": [
    "beds.shape"
   ]
  },
  {
   "cell_type": "code",
   "execution_count": 568,
   "metadata": {},
   "outputs": [],
   "source": [
    "# reshape the beds"
   ]
  },
  {
   "cell_type": "code",
   "execution_count": 569,
   "metadata": {},
   "outputs": [
    {
     "data": {
      "text/plain": [
       "(522, 1)"
      ]
     },
     "execution_count": 569,
     "metadata": {},
     "output_type": "execute_result"
    }
   ],
   "source": [
    "beds1 = beds.values.reshape(-1,1)\n",
    "beds1.shape"
   ]
  },
  {
   "cell_type": "code",
   "execution_count": 570,
   "metadata": {},
   "outputs": [
    {
     "data": {
      "text/plain": [
       "LinearRegression(copy_X=True, fit_intercept=True, n_jobs=None, normalize=False)"
      ]
     },
     "execution_count": 570,
     "metadata": {},
     "output_type": "execute_result"
    }
   ],
   "source": [
    "m1 = LinearRegression().fit(beds1,price) # first to write predictor(x)\n",
    "m1.fit(beds1,price)"
   ]
  },
  {
   "cell_type": "code",
   "execution_count": 571,
   "metadata": {},
   "outputs": [],
   "source": [
    "# intercept and slope"
   ]
  },
  {
   "cell_type": "code",
   "execution_count": 572,
   "metadata": {},
   "outputs": [
    {
     "data": {
      "text/plain": [
       "82808.79961261933"
      ]
     },
     "execution_count": 572,
     "metadata": {},
     "output_type": "execute_result"
    }
   ],
   "source": [
    "m1.intercept_"
   ]
  },
  {
   "cell_type": "code",
   "execution_count": 573,
   "metadata": {},
   "outputs": [
    {
     "data": {
      "text/plain": [
       "array([56200.08366568])"
      ]
     },
     "execution_count": 573,
     "metadata": {},
     "output_type": "execute_result"
    }
   ],
   "source": [
    "m1.coef_"
   ]
  },
  {
   "cell_type": "markdown",
   "metadata": {},
   "source": [
    "#### answer1: the estimated increase in the average of price is 56200 for each additional bedroom."
   ]
  },
  {
   "cell_type": "markdown",
   "metadata": {},
   "source": [
    "### Question 2 a)"
   ]
  },
  {
   "cell_type": "code",
   "execution_count": 574,
   "metadata": {},
   "outputs": [],
   "source": [
    "import statsmodels.api as sm"
   ]
  },
  {
   "cell_type": "code",
   "execution_count": 575,
   "metadata": {},
   "outputs": [
    {
     "data": {
      "text/html": [
       "<table class=\"simpletable\">\n",
       "<caption>OLS Regression Results</caption>\n",
       "<tr>\n",
       "  <th>Dep. Variable:</th>          <td>price</td>      <th>  R-squared:         </th> <td>   0.751</td> \n",
       "</tr>\n",
       "<tr>\n",
       "  <th>Model:</th>                   <td>OLS</td>       <th>  Adj. R-squared:    </th> <td>   0.748</td> \n",
       "</tr>\n",
       "<tr>\n",
       "  <th>Method:</th>             <td>Least Squares</td>  <th>  F-statistic:       </th> <td>   259.4</td> \n",
       "</tr>\n",
       "<tr>\n",
       "  <th>Date:</th>             <td>Tue, 24 Sep 2019</td> <th>  Prob (F-statistic):</th> <td>4.21e-152</td>\n",
       "</tr>\n",
       "<tr>\n",
       "  <th>Time:</th>                 <td>16:16:35</td>     <th>  Log-Likelihood:    </th> <td> -6554.5</td> \n",
       "</tr>\n",
       "<tr>\n",
       "  <th>No. Observations:</th>      <td>   522</td>      <th>  AIC:               </th> <td>1.312e+04</td>\n",
       "</tr>\n",
       "<tr>\n",
       "  <th>Df Residuals:</th>          <td>   515</td>      <th>  BIC:               </th> <td>1.315e+04</td>\n",
       "</tr>\n",
       "<tr>\n",
       "  <th>Df Model:</th>              <td>     6</td>      <th>                     </th>     <td> </td>    \n",
       "</tr>\n",
       "<tr>\n",
       "  <th>Covariance Type:</th>      <td>nonrobust</td>    <th>                     </th>     <td> </td>    \n",
       "</tr>\n",
       "</table>\n",
       "<table class=\"simpletable\">\n",
       "<tr>\n",
       "    <td></td>       <th>coef</th>     <th>std err</th>      <th>t</th>      <th>P>|t|</th>  <th>[0.025</th>    <th>0.975]</th>  \n",
       "</tr>\n",
       "<tr>\n",
       "  <th>const</th> <td>-6707.5382</td> <td> 1.88e+04</td> <td>   -0.356</td> <td> 0.722</td> <td>-4.37e+04</td> <td> 3.03e+04</td>\n",
       "</tr>\n",
       "<tr>\n",
       "  <th>x1</th>    <td>    1.5550</td> <td>    0.272</td> <td>    5.717</td> <td> 0.000</td> <td>    1.021</td> <td>    2.089</td>\n",
       "</tr>\n",
       "<tr>\n",
       "  <th>x2</th>    <td>  125.7386</td> <td>    6.963</td> <td>   18.057</td> <td> 0.000</td> <td>  112.059</td> <td>  139.419</td>\n",
       "</tr>\n",
       "<tr>\n",
       "  <th>x3</th>    <td>-1.304e+04</td> <td> 3780.397</td> <td>   -3.450</td> <td> 0.001</td> <td>-2.05e+04</td> <td>-5614.498</td>\n",
       "</tr>\n",
       "<tr>\n",
       "  <th>x4</th>    <td> 7987.5518</td> <td> 4818.957</td> <td>    1.658</td> <td> 0.098</td> <td>-1479.680</td> <td> 1.75e+04</td>\n",
       "</tr>\n",
       "<tr>\n",
       "  <th>x5</th>    <td>-1779.6108</td> <td>  215.487</td> <td>   -8.259</td> <td> 0.000</td> <td>-2202.953</td> <td>-1356.268</td>\n",
       "</tr>\n",
       "<tr>\n",
       "  <th>x6</th>    <td> 2.253e+04</td> <td> 5814.344</td> <td>    3.875</td> <td> 0.000</td> <td> 1.11e+04</td> <td>  3.4e+04</td>\n",
       "</tr>\n",
       "</table>\n",
       "<table class=\"simpletable\">\n",
       "<tr>\n",
       "  <th>Omnibus:</th>       <td>124.114</td> <th>  Durbin-Watson:     </th> <td>   1.327</td>\n",
       "</tr>\n",
       "<tr>\n",
       "  <th>Prob(Omnibus):</th> <td> 0.000</td>  <th>  Jarque-Bera (JB):  </th> <td> 384.582</td>\n",
       "</tr>\n",
       "<tr>\n",
       "  <th>Skew:</th>          <td> 1.110</td>  <th>  Prob(JB):          </th> <td>3.08e-84</td>\n",
       "</tr>\n",
       "<tr>\n",
       "  <th>Kurtosis:</th>      <td> 6.571</td>  <th>  Cond. No.          </th> <td>1.71e+05</td>\n",
       "</tr>\n",
       "</table><br/><br/>Warnings:<br/>[1] Standard Errors assume that the covariance matrix of the errors is correctly specified.<br/>[2] The condition number is large, 1.71e+05. This might indicate that there are<br/>strong multicollinearity or other numerical problems."
      ],
      "text/plain": [
       "<class 'statsmodels.iolib.summary.Summary'>\n",
       "\"\"\"\n",
       "                            OLS Regression Results                            \n",
       "==============================================================================\n",
       "Dep. Variable:                  price   R-squared:                       0.751\n",
       "Model:                            OLS   Adj. R-squared:                  0.748\n",
       "Method:                 Least Squares   F-statistic:                     259.4\n",
       "Date:                Tue, 24 Sep 2019   Prob (F-statistic):          4.21e-152\n",
       "Time:                        16:16:35   Log-Likelihood:                -6554.5\n",
       "No. Observations:                 522   AIC:                         1.312e+04\n",
       "Df Residuals:                     515   BIC:                         1.315e+04\n",
       "Df Model:                           6                                         \n",
       "Covariance Type:            nonrobust                                         \n",
       "==============================================================================\n",
       "                 coef    std err          t      P>|t|      [0.025      0.975]\n",
       "------------------------------------------------------------------------------\n",
       "const      -6707.5382   1.88e+04     -0.356      0.722   -4.37e+04    3.03e+04\n",
       "x1             1.5550      0.272      5.717      0.000       1.021       2.089\n",
       "x2           125.7386      6.963     18.057      0.000     112.059     139.419\n",
       "x3         -1.304e+04   3780.397     -3.450      0.001   -2.05e+04   -5614.498\n",
       "x4          7987.5518   4818.957      1.658      0.098   -1479.680    1.75e+04\n",
       "x5         -1779.6108    215.487     -8.259      0.000   -2202.953   -1356.268\n",
       "x6          2.253e+04   5814.344      3.875      0.000    1.11e+04     3.4e+04\n",
       "==============================================================================\n",
       "Omnibus:                      124.114   Durbin-Watson:                   1.327\n",
       "Prob(Omnibus):                  0.000   Jarque-Bera (JB):              384.582\n",
       "Skew:                           1.110   Prob(JB):                     3.08e-84\n",
       "Kurtosis:                       6.571   Cond. No.                     1.71e+05\n",
       "==============================================================================\n",
       "\n",
       "Warnings:\n",
       "[1] Standard Errors assume that the covariance matrix of the errors is correctly specified.\n",
       "[2] The condition number is large, 1.71e+05. This might indicate that there are\n",
       "strong multicollinearity or other numerical problems.\n",
       "\"\"\""
      ]
     },
     "execution_count": 575,
     "metadata": {},
     "output_type": "execute_result"
    }
   ],
   "source": [
    "X = df1[[\"lotsize\",\"area\",\"beds\",\"baths\",\"age\",\"garage\"]].to_numpy() # to show as a dataframe\n",
    "y = df1[[\"price\"]]\n",
    "X = sm.add_constant(X) # to make the regression function to be eligible\n",
    "m2 = sm.OLS(y,X).fit()\n",
    "m2.summary()"
   ]
  },
  {
   "cell_type": "code",
   "execution_count": 576,
   "metadata": {},
   "outputs": [
    {
     "name": "stdout",
     "output_type": "stream",
     "text": [
      "The coeffecients are:\n",
      " const    -6707.538167\n",
      "x1           1.554990\n",
      "x2         125.738603\n",
      "x3      -13041.394214\n",
      "x4        7987.551827\n",
      "x5       -1779.610838\n",
      "x6       22530.379289\n",
      "dtype: float64\n",
      "The estimated regression coefficients for a 99% confidence interval are:\n",
      "                   0             1\n",
      "const -55431.280841  42016.204508\n",
      "x1         0.851721      2.258260\n",
      "x2       107.735683    143.741523\n",
      "x3    -22815.268707  -3267.519722\n",
      "x4     -4471.425313  20446.528968\n",
      "x5     -2336.734049  -1222.487627\n",
      "x6      7497.919937  37562.838640\n"
     ]
    }
   ],
   "source": [
    "print(\"The coeffecients are:\\n\",m2.params) # to show all the coefficients\n",
    "print(\"The estimated regression coefficients for a 99% confidence interval are:\\n\",m2.conf_int(alpha = 0.01))\n"
   ]
  },
  {
   "cell_type": "markdown",
   "metadata": {},
   "source": [
    "### Question 2 b)"
   ]
  },
  {
   "cell_type": "code",
   "execution_count": 577,
   "metadata": {},
   "outputs": [
    {
     "data": {
      "text/html": [
       "<div>\n",
       "<style scoped>\n",
       "    .dataframe tbody tr th:only-of-type {\n",
       "        vertical-align: middle;\n",
       "    }\n",
       "\n",
       "    .dataframe tbody tr th {\n",
       "        vertical-align: top;\n",
       "    }\n",
       "\n",
       "    .dataframe thead th {\n",
       "        text-align: right;\n",
       "    }\n",
       "</style>\n",
       "<table border=\"1\" class=\"dataframe\">\n",
       "  <thead>\n",
       "    <tr style=\"text-align: right;\">\n",
       "      <th></th>\n",
       "      <th>const</th>\n",
       "      <th>lotsize</th>\n",
       "      <th>area</th>\n",
       "      <th>beds</th>\n",
       "      <th>baths</th>\n",
       "      <th>age</th>\n",
       "      <th>garage</th>\n",
       "    </tr>\n",
       "  </thead>\n",
       "  <tbody>\n",
       "    <tr>\n",
       "      <th>0</th>\n",
       "      <td>1</td>\n",
       "      <td>24500</td>\n",
       "      <td>2650</td>\n",
       "      <td>3</td>\n",
       "      <td>3</td>\n",
       "      <td>11</td>\n",
       "      <td>2</td>\n",
       "    </tr>\n",
       "  </tbody>\n",
       "</table>\n",
       "</div>"
      ],
      "text/plain": [
       "   const  lotsize  area  beds  baths  age  garage\n",
       "0      1    24500  2650     3      3   11       2"
      ]
     },
     "execution_count": 577,
     "metadata": {},
     "output_type": "execute_result"
    }
   ],
   "source": [
    "newval = pd.DataFrame([[1,24500,2650,3,3,11,2]],columns = [\"const\",\"lotsize\",\"area\",\"beds\",\"baths\",\"age\",\"garage\"])\n",
    "newval"
   ]
  },
  {
   "cell_type": "code",
   "execution_count": 578,
   "metadata": {},
   "outputs": [
    {
     "data": {
      "text/html": [
       "<div>\n",
       "<style scoped>\n",
       "    .dataframe tbody tr th:only-of-type {\n",
       "        vertical-align: middle;\n",
       "    }\n",
       "\n",
       "    .dataframe tbody tr th {\n",
       "        vertical-align: top;\n",
       "    }\n",
       "\n",
       "    .dataframe thead th {\n",
       "        text-align: right;\n",
       "    }\n",
       "</style>\n",
       "<table border=\"1\" class=\"dataframe\">\n",
       "  <thead>\n",
       "    <tr style=\"text-align: right;\">\n",
       "      <th></th>\n",
       "      <th>mean</th>\n",
       "      <th>mean_se</th>\n",
       "      <th>mean_ci_lower</th>\n",
       "      <th>mean_ci_upper</th>\n",
       "      <th>obs_ci_lower</th>\n",
       "      <th>obs_ci_upper</th>\n",
       "    </tr>\n",
       "  </thead>\n",
       "  <tbody>\n",
       "    <tr>\n",
       "      <th>0</th>\n",
       "      <td>374920.532647</td>\n",
       "      <td>6511.365875</td>\n",
       "      <td>362128.426983</td>\n",
       "      <td>387712.63831</td>\n",
       "      <td>238431.17994</td>\n",
       "      <td>511409.885353</td>\n",
       "    </tr>\n",
       "  </tbody>\n",
       "</table>\n",
       "</div>"
      ],
      "text/plain": [
       "            mean      mean_se  mean_ci_lower  mean_ci_upper  obs_ci_lower  \\\n",
       "0  374920.532647  6511.365875  362128.426983   387712.63831  238431.17994   \n",
       "\n",
       "    obs_ci_upper  \n",
       "0  511409.885353  "
      ]
     },
     "execution_count": 578,
     "metadata": {},
     "output_type": "execute_result"
    }
   ],
   "source": [
    "pred = m2.get_prediction(newval)\n",
    "pred.summary_frame(alpha = 0.05)"
   ]
  },
  {
   "cell_type": "markdown",
   "metadata": {},
   "source": [
    "#### 2b) The average price for a 95% confidence interval is between 36128.43 and 387712.64."
   ]
  },
  {
   "cell_type": "markdown",
   "metadata": {},
   "source": [
    "### Question 2 c) price for house when all predictors are equal to ther median values."
   ]
  },
  {
   "cell_type": "code",
   "execution_count": 579,
   "metadata": {},
   "outputs": [],
   "source": [
    "list1 = [\"lotsize\",\"area\",\"beds\",\"baths\",\"age\",\"garage\"]"
   ]
  },
  {
   "cell_type": "code",
   "execution_count": 580,
   "metadata": {},
   "outputs": [],
   "source": [
    "medianP = df1[list1].median()"
   ]
  },
  {
   "cell_type": "code",
   "execution_count": 581,
   "metadata": {},
   "outputs": [
    {
     "data": {
      "text/plain": [
       "lotsize    22200.0\n",
       "area        2061.0\n",
       "beds           3.0\n",
       "baths          3.0\n",
       "age           35.0\n",
       "garage         2.0\n",
       "dtype: float64"
      ]
     },
     "execution_count": 581,
     "metadata": {},
     "output_type": "execute_result"
    }
   ],
   "source": [
    "medianP"
   ]
  },
  {
   "cell_type": "code",
   "execution_count": 582,
   "metadata": {},
   "outputs": [
    {
     "data": {
      "text/plain": [
       "array([254573.35791857])"
      ]
     },
     "execution_count": 582,
     "metadata": {},
     "output_type": "execute_result"
    }
   ],
   "source": [
    "lr = LinearRegression()\n",
    "lr.fit(df1[list1],df1.price)\n",
    "lr.predict(medianP.values.reshape(1,-1))"
   ]
  },
  {
   "cell_type": "markdown",
   "metadata": {},
   "source": [
    "#### 2c) The price is 254573 when all predictors are equal to theri median."
   ]
  },
  {
   "cell_type": "markdown",
   "metadata": {},
   "source": [
    "### Question 3 best and worst predictors in terms of correlations"
   ]
  },
  {
   "cell_type": "code",
   "execution_count": 583,
   "metadata": {},
   "outputs": [
    {
     "data": {
      "text/html": [
       "<div>\n",
       "<style scoped>\n",
       "    .dataframe tbody tr th:only-of-type {\n",
       "        vertical-align: middle;\n",
       "    }\n",
       "\n",
       "    .dataframe tbody tr th {\n",
       "        vertical-align: top;\n",
       "    }\n",
       "\n",
       "    .dataframe thead th {\n",
       "        text-align: right;\n",
       "    }\n",
       "</style>\n",
       "<table border=\"1\" class=\"dataframe\">\n",
       "  <thead>\n",
       "    <tr style=\"text-align: right;\">\n",
       "      <th></th>\n",
       "      <th>price</th>\n",
       "      <th>area</th>\n",
       "      <th>beds</th>\n",
       "      <th>baths</th>\n",
       "      <th>garage</th>\n",
       "      <th>age</th>\n",
       "      <th>style</th>\n",
       "      <th>lotsize</th>\n",
       "    </tr>\n",
       "  </thead>\n",
       "  <tbody>\n",
       "    <tr>\n",
       "      <th>price</th>\n",
       "      <td>1.0</td>\n",
       "      <td>0.81947</td>\n",
       "      <td>0.413324</td>\n",
       "      <td>0.683685</td>\n",
       "      <td>0.577786</td>\n",
       "      <td>-0.555516</td>\n",
       "      <td>0.357493</td>\n",
       "      <td>0.224169</td>\n",
       "    </tr>\n",
       "  </tbody>\n",
       "</table>\n",
       "</div>"
      ],
      "text/plain": [
       "       price     area      beds     baths    garage       age     style  \\\n",
       "price    1.0  0.81947  0.413324  0.683685  0.577786 -0.555516  0.357493   \n",
       "\n",
       "        lotsize  \n",
       "price  0.224169  "
      ]
     },
     "execution_count": 583,
     "metadata": {},
     "output_type": "execute_result"
    }
   ],
   "source": [
    "df1.corr()[:1]"
   ]
  },
  {
   "cell_type": "markdown",
   "metadata": {},
   "source": [
    "#### 3. Obvisouly, Area has 81.95% correlation with price and lotsize has 22.42% correlation with price.\n",
    "####     So the best predictor is area and worst predictor is lotsize."
   ]
  },
  {
   "cell_type": "markdown",
   "metadata": {},
   "source": [
    "### Question 4 best and worst predictors interms of R-squared"
   ]
  },
  {
   "cell_type": "code",
   "execution_count": 584,
   "metadata": {},
   "outputs": [],
   "source": [
    "from scipy.special import comb\n",
    "from sklearn.metrics import mean_squared_error"
   ]
  },
  {
   "cell_type": "code",
   "execution_count": 585,
   "metadata": {},
   "outputs": [],
   "source": [
    "Y1 = df1[\"price\"]\n",
    "X1 = df1[[\"lotsize\",\"area\",\"beds\",\"baths\",\"age\",\"garage\"]]"
   ]
  },
  {
   "cell_type": "code",
   "execution_count": 586,
   "metadata": {},
   "outputs": [
    {
     "data": {
      "text/plain": [
       "(522,)"
      ]
     },
     "execution_count": 586,
     "metadata": {},
     "output_type": "execute_result"
    }
   ],
   "source": [
    "Y1.shape"
   ]
  },
  {
   "cell_type": "code",
   "execution_count": 587,
   "metadata": {},
   "outputs": [
    {
     "data": {
      "text/plain": [
       "(522, 6)"
      ]
     },
     "execution_count": 587,
     "metadata": {},
     "output_type": "execute_result"
    }
   ],
   "source": [
    "X1.shape"
   ]
  },
  {
   "cell_type": "code",
   "execution_count": 588,
   "metadata": {},
   "outputs": [],
   "source": [
    "model1 = LinearRegression().fit(X1,Y1)"
   ]
  },
  {
   "cell_type": "code",
   "execution_count": 589,
   "metadata": {},
   "outputs": [
    {
     "data": {
      "text/plain": [
       "4720225553.216769"
      ]
     },
     "execution_count": 589,
     "metadata": {},
     "output_type": "execute_result"
    }
   ],
   "source": [
    "MSE = mean_squared_error(Y1,model1.predict(X1))\n",
    "MSE"
   ]
  },
  {
   "cell_type": "code",
   "execution_count": 590,
   "metadata": {},
   "outputs": [
    {
     "data": {
      "text/plain": [
       "2463957738779.1533"
      ]
     },
     "execution_count": 590,
     "metadata": {},
     "output_type": "execute_result"
    }
   ],
   "source": [
    "SSE = MSE * len(Y1)\n",
    "SSE"
   ]
  },
  {
   "cell_type": "code",
   "execution_count": 591,
   "metadata": {},
   "outputs": [
    {
     "data": {
      "text/plain": [
       "0.7513894013091613"
      ]
     },
     "execution_count": 591,
     "metadata": {},
     "output_type": "execute_result"
    }
   ],
   "source": [
    "R_squared = model1.score(X1,Y1)\n",
    "R_squared"
   ]
  },
  {
   "cell_type": "code",
   "execution_count": 592,
   "metadata": {},
   "outputs": [],
   "source": [
    "# Another ways to get SSE and R-squared"
   ]
  },
  {
   "cell_type": "code",
   "execution_count": 593,
   "metadata": {},
   "outputs": [],
   "source": [
    "from scipy.special import comb"
   ]
  },
  {
   "cell_type": "code",
   "execution_count": 594,
   "metadata": {},
   "outputs": [],
   "source": [
    "def get_sse(X1,Y1):\n",
    "    model_k = LinearRegression().fit(X1,Y1)\n",
    "    SSE = mean_squared_error(Y1,model_k.predict(X1))*len(Y1)\n",
    "    R_squared = model_k.score(X1,Y1)\n",
    "    return SSE, R_squared"
   ]
  },
  {
   "cell_type": "code",
   "execution_count": 595,
   "metadata": {},
   "outputs": [
    {
     "data": {
      "text/plain": [
       "2463957738779.1533"
      ]
     },
     "execution_count": 595,
     "metadata": {},
     "output_type": "execute_result"
    }
   ],
   "source": [
    "SSE, R_Squared = get_sse(X1,Y1)\n",
    "SSE"
   ]
  },
  {
   "cell_type": "code",
   "execution_count": 596,
   "metadata": {},
   "outputs": [
    {
     "data": {
      "text/plain": [
       "0.7513894013091613"
      ]
     },
     "execution_count": 596,
     "metadata": {},
     "output_type": "execute_result"
    }
   ],
   "source": [
    "R_squared"
   ]
  },
  {
   "cell_type": "code",
   "execution_count": 597,
   "metadata": {},
   "outputs": [],
   "source": [
    "# create four empty list"
   ]
  },
  {
   "cell_type": "code",
   "execution_count": 598,
   "metadata": {},
   "outputs": [],
   "source": [
    "SSE_list, R2_list, feature_list, num_features = [],[],[],[]"
   ]
  },
  {
   "cell_type": "code",
   "execution_count": 599,
   "metadata": {},
   "outputs": [],
   "source": [
    "import itertools"
   ]
  },
  {
   "cell_type": "code",
   "execution_count": 600,
   "metadata": {},
   "outputs": [
    {
     "data": {
      "text/plain": [
       "6"
      ]
     },
     "execution_count": 600,
     "metadata": {},
     "output_type": "execute_result"
    }
   ],
   "source": [
    "m = len(X1.columns)\n",
    "m"
   ]
  },
  {
   "cell_type": "code",
   "execution_count": 601,
   "metadata": {},
   "outputs": [
    {
     "data": {
      "text/plain": [
       "[1, 2, 3, 4, 5, 6]"
      ]
     },
     "execution_count": 601,
     "metadata": {},
     "output_type": "execute_result"
    }
   ],
   "source": [
    "list(range(1,m+1))"
   ]
  },
  {
   "cell_type": "code",
   "execution_count": 602,
   "metadata": {},
   "outputs": [],
   "source": [
    "for k in range(1,m+1):\n",
    "    for subset in itertools.combinations(X1.columns,k): # how many predictors\n",
    "        temp = get_sse(X1[list(subset)],Y1)\n",
    "    \n",
    "        SSE_list.append(temp[0])\n",
    "        R2_list.append(temp[1])\n",
    "        feature_list.append(subset)\n",
    "        num_features.append(len(subset))"
   ]
  },
  {
   "cell_type": "code",
   "execution_count": 603,
   "metadata": {
    "scrolled": true
   },
   "outputs": [],
   "source": [
    "df = pd.DataFrame(num_features,columns=[\"n_features\"])"
   ]
  },
  {
   "cell_type": "code",
   "execution_count": 604,
   "metadata": {},
   "outputs": [],
   "source": [
    "df[\"features\"] = feature_list"
   ]
  },
  {
   "cell_type": "code",
   "execution_count": 605,
   "metadata": {},
   "outputs": [],
   "source": [
    "df[\"R-squared\"] = R2_list"
   ]
  },
  {
   "cell_type": "code",
   "execution_count": 606,
   "metadata": {},
   "outputs": [
    {
     "data": {
      "text/plain": [
       "[9412873469063.32,\n",
       " 3255425605236.3877,\n",
       " 8217765186285.018,\n",
       " 5278296874758.204,\n",
       " 6852419094443.968]"
      ]
     },
     "execution_count": 606,
     "metadata": {},
     "output_type": "execute_result"
    }
   ],
   "source": [
    "SSE_list[:5]"
   ]
  },
  {
   "cell_type": "code",
   "execution_count": 607,
   "metadata": {},
   "outputs": [],
   "source": [
    "SSE_list2 = np.round(SSE_list,0)"
   ]
  },
  {
   "cell_type": "code",
   "execution_count": 608,
   "metadata": {},
   "outputs": [],
   "source": [
    "df['SSE'] = SSE_list2"
   ]
  },
  {
   "cell_type": "code",
   "execution_count": 610,
   "metadata": {},
   "outputs": [
    {
     "data": {
      "text/html": [
       "<div>\n",
       "<style scoped>\n",
       "    .dataframe tbody tr th:only-of-type {\n",
       "        vertical-align: middle;\n",
       "    }\n",
       "\n",
       "    .dataframe tbody tr th {\n",
       "        vertical-align: top;\n",
       "    }\n",
       "\n",
       "    .dataframe thead th {\n",
       "        text-align: right;\n",
       "    }\n",
       "</style>\n",
       "<table border=\"1\" class=\"dataframe\">\n",
       "  <thead>\n",
       "    <tr style=\"text-align: right;\">\n",
       "      <th></th>\n",
       "      <th>n_features</th>\n",
       "      <th>features</th>\n",
       "      <th>R-squared</th>\n",
       "      <th>SSE</th>\n",
       "    </tr>\n",
       "  </thead>\n",
       "  <tbody>\n",
       "    <tr>\n",
       "      <th>0</th>\n",
       "      <td>1</td>\n",
       "      <td>(lotsize,)</td>\n",
       "      <td>0.050252</td>\n",
       "      <td>9.412873e+12</td>\n",
       "    </tr>\n",
       "    <tr>\n",
       "      <th>1</th>\n",
       "      <td>1</td>\n",
       "      <td>(area,)</td>\n",
       "      <td>0.671531</td>\n",
       "      <td>3.255426e+12</td>\n",
       "    </tr>\n",
       "    <tr>\n",
       "      <th>2</th>\n",
       "      <td>1</td>\n",
       "      <td>(beds,)</td>\n",
       "      <td>0.170837</td>\n",
       "      <td>8.217765e+12</td>\n",
       "    </tr>\n",
       "    <tr>\n",
       "      <th>3</th>\n",
       "      <td>1</td>\n",
       "      <td>(baths,)</td>\n",
       "      <td>0.467426</td>\n",
       "      <td>5.278297e+12</td>\n",
       "    </tr>\n",
       "    <tr>\n",
       "      <th>4</th>\n",
       "      <td>1</td>\n",
       "      <td>(age,)</td>\n",
       "      <td>0.308599</td>\n",
       "      <td>6.852419e+12</td>\n",
       "    </tr>\n",
       "    <tr>\n",
       "      <th>5</th>\n",
       "      <td>1</td>\n",
       "      <td>(garage,)</td>\n",
       "      <td>0.333837</td>\n",
       "      <td>6.602283e+12</td>\n",
       "    </tr>\n",
       "    <tr>\n",
       "      <th>6</th>\n",
       "      <td>2</td>\n",
       "      <td>(lotsize, area)</td>\n",
       "      <td>0.680802</td>\n",
       "      <td>3.163546e+12</td>\n",
       "    </tr>\n",
       "    <tr>\n",
       "      <th>7</th>\n",
       "      <td>2</td>\n",
       "      <td>(lotsize, beds)</td>\n",
       "      <td>0.200856</td>\n",
       "      <td>7.920250e+12</td>\n",
       "    </tr>\n",
       "    <tr>\n",
       "      <th>8</th>\n",
       "      <td>2</td>\n",
       "      <td>(lotsize, baths)</td>\n",
       "      <td>0.483056</td>\n",
       "      <td>5.123388e+12</td>\n",
       "    </tr>\n",
       "    <tr>\n",
       "      <th>9</th>\n",
       "      <td>2</td>\n",
       "      <td>(lotsize, age)</td>\n",
       "      <td>0.387781</td>\n",
       "      <td>6.067645e+12</td>\n",
       "    </tr>\n",
       "    <tr>\n",
       "      <th>10</th>\n",
       "      <td>2</td>\n",
       "      <td>(lotsize, garage)</td>\n",
       "      <td>0.352833</td>\n",
       "      <td>6.414020e+12</td>\n",
       "    </tr>\n",
       "    <tr>\n",
       "      <th>11</th>\n",
       "      <td>2</td>\n",
       "      <td>(area, beds)</td>\n",
       "      <td>0.674317</td>\n",
       "      <td>3.227813e+12</td>\n",
       "    </tr>\n",
       "    <tr>\n",
       "      <th>12</th>\n",
       "      <td>2</td>\n",
       "      <td>(area, baths)</td>\n",
       "      <td>0.681295</td>\n",
       "      <td>3.158659e+12</td>\n",
       "    </tr>\n",
       "  </tbody>\n",
       "</table>\n",
       "</div>"
      ],
      "text/plain": [
       "    n_features           features  R-squared           SSE\n",
       "0            1         (lotsize,)   0.050252  9.412873e+12\n",
       "1            1            (area,)   0.671531  3.255426e+12\n",
       "2            1            (beds,)   0.170837  8.217765e+12\n",
       "3            1           (baths,)   0.467426  5.278297e+12\n",
       "4            1             (age,)   0.308599  6.852419e+12\n",
       "5            1          (garage,)   0.333837  6.602283e+12\n",
       "6            2    (lotsize, area)   0.680802  3.163546e+12\n",
       "7            2    (lotsize, beds)   0.200856  7.920250e+12\n",
       "8            2   (lotsize, baths)   0.483056  5.123388e+12\n",
       "9            2     (lotsize, age)   0.387781  6.067645e+12\n",
       "10           2  (lotsize, garage)   0.352833  6.414020e+12\n",
       "11           2       (area, beds)   0.674317  3.227813e+12\n",
       "12           2      (area, baths)   0.681295  3.158659e+12"
      ]
     },
     "execution_count": 610,
     "metadata": {},
     "output_type": "execute_result"
    }
   ],
   "source": [
    "df[:13]"
   ]
  },
  {
   "cell_type": "code",
   "execution_count": 611,
   "metadata": {},
   "outputs": [],
   "source": [
    "# group by n_feature"
   ]
  },
  {
   "cell_type": "code",
   "execution_count": 612,
   "metadata": {},
   "outputs": [
    {
     "data": {
      "text/plain": [
       "n_features\n",
       "1    0.671531\n",
       "2    0.718249\n",
       "3    0.737944\n",
       "4    0.745438\n",
       "5    0.750063\n",
       "6    0.751389\n",
       "Name: R-squared, dtype: float64"
      ]
     },
     "execution_count": 612,
     "metadata": {},
     "output_type": "execute_result"
    }
   ],
   "source": [
    "df.groupby([\"n_features\"])[\"R-squared\"].max()"
   ]
  },
  {
   "cell_type": "code",
   "execution_count": 613,
   "metadata": {},
   "outputs": [
    {
     "data": {
      "text/plain": [
       "n_features\n",
       "1    0.671531\n",
       "2    0.718249\n",
       "3    0.737944\n",
       "4    0.745438\n",
       "5    0.750063\n",
       "6    0.751389\n",
       "Name: R-squared, dtype: float64"
      ]
     },
     "execution_count": 613,
     "metadata": {},
     "output_type": "execute_result"
    }
   ],
   "source": [
    "df.groupby([\"n_features\"])[\"R-squared\"].max()"
   ]
  },
  {
   "cell_type": "code",
   "execution_count": 614,
   "metadata": {},
   "outputs": [],
   "source": [
    "best_r2 = df.groupby([\"n_features\"])[\"R-squared\"].max()"
   ]
  },
  {
   "cell_type": "code",
   "execution_count": 615,
   "metadata": {},
   "outputs": [],
   "source": [
    "worst_r2 = df.groupby([\"n_features\"])[\"R-squared\"].min()"
   ]
  },
  {
   "cell_type": "code",
   "execution_count": 616,
   "metadata": {},
   "outputs": [],
   "source": [
    "# dataframe with best single predictor"
   ]
  },
  {
   "cell_type": "code",
   "execution_count": 620,
   "metadata": {},
   "outputs": [
    {
     "data": {
      "text/html": [
       "<div>\n",
       "<style scoped>\n",
       "    .dataframe tbody tr th:only-of-type {\n",
       "        vertical-align: middle;\n",
       "    }\n",
       "\n",
       "    .dataframe tbody tr th {\n",
       "        vertical-align: top;\n",
       "    }\n",
       "\n",
       "    .dataframe thead th {\n",
       "        text-align: right;\n",
       "    }\n",
       "</style>\n",
       "<table border=\"1\" class=\"dataframe\">\n",
       "  <thead>\n",
       "    <tr style=\"text-align: right;\">\n",
       "      <th></th>\n",
       "      <th>n_features</th>\n",
       "      <th>features</th>\n",
       "      <th>R-squared</th>\n",
       "      <th>SSE</th>\n",
       "    </tr>\n",
       "  </thead>\n",
       "  <tbody>\n",
       "    <tr>\n",
       "      <th>1</th>\n",
       "      <td>1</td>\n",
       "      <td>(area,)</td>\n",
       "      <td>0.671531</td>\n",
       "      <td>3.255426e+12</td>\n",
       "    </tr>\n",
       "  </tbody>\n",
       "</table>\n",
       "</div>"
      ],
      "text/plain": [
       "   n_features features  R-squared           SSE\n",
       "1           1  (area,)   0.671531  3.255426e+12"
      ]
     },
     "execution_count": 620,
     "metadata": {},
     "output_type": "execute_result"
    }
   ],
   "source": [
    "df2 = df[df[\"R-squared\"]== best_r2[1]]\n",
    "df2"
   ]
  },
  {
   "cell_type": "code",
   "execution_count": 623,
   "metadata": {},
   "outputs": [
    {
     "data": {
      "text/html": [
       "<div>\n",
       "<style scoped>\n",
       "    .dataframe tbody tr th:only-of-type {\n",
       "        vertical-align: middle;\n",
       "    }\n",
       "\n",
       "    .dataframe tbody tr th {\n",
       "        vertical-align: top;\n",
       "    }\n",
       "\n",
       "    .dataframe thead th {\n",
       "        text-align: right;\n",
       "    }\n",
       "</style>\n",
       "<table border=\"1\" class=\"dataframe\">\n",
       "  <thead>\n",
       "    <tr style=\"text-align: right;\">\n",
       "      <th></th>\n",
       "      <th>n_features</th>\n",
       "      <th>features</th>\n",
       "      <th>R-squared</th>\n",
       "      <th>SSE</th>\n",
       "    </tr>\n",
       "  </thead>\n",
       "  <tbody>\n",
       "    <tr>\n",
       "      <th>13</th>\n",
       "      <td>2</td>\n",
       "      <td>(area, age)</td>\n",
       "      <td>0.718249</td>\n",
       "      <td>2.792410e+12</td>\n",
       "    </tr>\n",
       "  </tbody>\n",
       "</table>\n",
       "</div>"
      ],
      "text/plain": [
       "    n_features     features  R-squared           SSE\n",
       "13           2  (area, age)   0.718249  2.792410e+12"
      ]
     },
     "execution_count": 623,
     "metadata": {},
     "output_type": "execute_result"
    }
   ],
   "source": [
    "df2 = df[df['R-squared'] == best_r2[2]]\n",
    "df2"
   ]
  },
  {
   "cell_type": "code",
   "execution_count": 624,
   "metadata": {},
   "outputs": [],
   "source": [
    "# dataframes with best subsets of predictors"
   ]
  },
  {
   "cell_type": "code",
   "execution_count": 625,
   "metadata": {},
   "outputs": [],
   "source": [
    "df2 = df[df[\"R-squared\"] == best_r2[1]]"
   ]
  },
  {
   "cell_type": "code",
   "execution_count": 626,
   "metadata": {},
   "outputs": [],
   "source": [
    "for i in range(2,7):\n",
    "    df2 = df2.append(df[df['R-squared'] == best_r2[i]])"
   ]
  },
  {
   "cell_type": "code",
   "execution_count": 443,
   "metadata": {},
   "outputs": [
    {
     "data": {
      "text/html": [
       "<div>\n",
       "<style scoped>\n",
       "    .dataframe tbody tr th:only-of-type {\n",
       "        vertical-align: middle;\n",
       "    }\n",
       "\n",
       "    .dataframe tbody tr th {\n",
       "        vertical-align: top;\n",
       "    }\n",
       "\n",
       "    .dataframe thead th {\n",
       "        text-align: right;\n",
       "    }\n",
       "</style>\n",
       "<table border=\"1\" class=\"dataframe\">\n",
       "  <thead>\n",
       "    <tr style=\"text-align: right;\">\n",
       "      <th></th>\n",
       "      <th>n_features</th>\n",
       "      <th>features</th>\n",
       "      <th>R-squared</th>\n",
       "      <th>SSE</th>\n",
       "    </tr>\n",
       "  </thead>\n",
       "  <tbody>\n",
       "    <tr>\n",
       "      <th>1</th>\n",
       "      <td>1</td>\n",
       "      <td>(area,)</td>\n",
       "      <td>0.671531</td>\n",
       "      <td>3.255426e+12</td>\n",
       "    </tr>\n",
       "    <tr>\n",
       "      <th>13</th>\n",
       "      <td>2</td>\n",
       "      <td>(area, age)</td>\n",
       "      <td>0.718249</td>\n",
       "      <td>2.792410e+12</td>\n",
       "    </tr>\n",
       "    <tr>\n",
       "      <th>23</th>\n",
       "      <td>3</td>\n",
       "      <td>(lotsize, area, age)</td>\n",
       "      <td>0.737944</td>\n",
       "      <td>2.597213e+12</td>\n",
       "    </tr>\n",
       "    <tr>\n",
       "      <th>46</th>\n",
       "      <td>4</td>\n",
       "      <td>(lotsize, area, age, garage)</td>\n",
       "      <td>0.745438</td>\n",
       "      <td>2.522941e+12</td>\n",
       "    </tr>\n",
       "    <tr>\n",
       "      <th>58</th>\n",
       "      <td>5</td>\n",
       "      <td>(lotsize, area, beds, age, garage)</td>\n",
       "      <td>0.750063</td>\n",
       "      <td>2.477102e+12</td>\n",
       "    </tr>\n",
       "    <tr>\n",
       "      <th>62</th>\n",
       "      <td>6</td>\n",
       "      <td>(lotsize, area, beds, baths, age, garage)</td>\n",
       "      <td>0.751389</td>\n",
       "      <td>2.463958e+12</td>\n",
       "    </tr>\n",
       "  </tbody>\n",
       "</table>\n",
       "</div>"
      ],
      "text/plain": [
       "    n_features                                   features  R-squared  \\\n",
       "1            1                                    (area,)   0.671531   \n",
       "13           2                                (area, age)   0.718249   \n",
       "23           3                       (lotsize, area, age)   0.737944   \n",
       "46           4               (lotsize, area, age, garage)   0.745438   \n",
       "58           5         (lotsize, area, beds, age, garage)   0.750063   \n",
       "62           6  (lotsize, area, beds, baths, age, garage)   0.751389   \n",
       "\n",
       "             SSE  \n",
       "1   3.255426e+12  \n",
       "13  2.792410e+12  \n",
       "23  2.597213e+12  \n",
       "46  2.522941e+12  \n",
       "58  2.477102e+12  \n",
       "62  2.463958e+12  "
      ]
     },
     "execution_count": 443,
     "metadata": {},
     "output_type": "execute_result"
    }
   ],
   "source": [
    "df2"
   ]
  },
  {
   "cell_type": "code",
   "execution_count": 444,
   "metadata": {},
   "outputs": [],
   "source": [
    " #above is the forward selection to see the best subsets and AIC is the opposize, least is better"
   ]
  },
  {
   "cell_type": "markdown",
   "metadata": {},
   "source": [
    "#### 4. From the data frame above, we can find that area is the best predictor, and baths is the worst predictor."
   ]
  },
  {
   "cell_type": "markdown",
   "metadata": {},
   "source": [
    "### 5. Fit model with best subset of predictors(AIC)."
   ]
  },
  {
   "cell_type": "code",
   "execution_count": 445,
   "metadata": {},
   "outputs": [],
   "source": [
    "n = 522"
   ]
  },
  {
   "cell_type": "code",
   "execution_count": 447,
   "metadata": {},
   "outputs": [],
   "source": [
    "df2['AIC'] = n* np.log(df2['SSE']/n) + 2* df2['n_features']"
   ]
  },
  {
   "cell_type": "code",
   "execution_count": 448,
   "metadata": {},
   "outputs": [],
   "source": [
    "df2['adj_R-squared'] = 1 - ((1 - df2['R-squared'])*(n-1)/(n - df2['n_features'] - 1))"
   ]
  },
  {
   "cell_type": "code",
   "execution_count": 449,
   "metadata": {},
   "outputs": [
    {
     "data": {
      "text/html": [
       "<div>\n",
       "<style scoped>\n",
       "    .dataframe tbody tr th:only-of-type {\n",
       "        vertical-align: middle;\n",
       "    }\n",
       "\n",
       "    .dataframe tbody tr th {\n",
       "        vertical-align: top;\n",
       "    }\n",
       "\n",
       "    .dataframe thead th {\n",
       "        text-align: right;\n",
       "    }\n",
       "</style>\n",
       "<table border=\"1\" class=\"dataframe\">\n",
       "  <thead>\n",
       "    <tr style=\"text-align: right;\">\n",
       "      <th></th>\n",
       "      <th>n_features</th>\n",
       "      <th>features</th>\n",
       "      <th>R-squared</th>\n",
       "      <th>SSE</th>\n",
       "      <th>AIC</th>\n",
       "      <th>adj_R-squared</th>\n",
       "    </tr>\n",
       "  </thead>\n",
       "  <tbody>\n",
       "    <tr>\n",
       "      <th>1</th>\n",
       "      <td>1</td>\n",
       "      <td>(area,)</td>\n",
       "      <td>0.671531</td>\n",
       "      <td>3.255426e+12</td>\n",
       "      <td>11775.019159</td>\n",
       "      <td>0.670900</td>\n",
       "    </tr>\n",
       "    <tr>\n",
       "      <th>13</th>\n",
       "      <td>2</td>\n",
       "      <td>(area, age)</td>\n",
       "      <td>0.718249</td>\n",
       "      <td>2.792410e+12</td>\n",
       "      <td>11696.934938</td>\n",
       "      <td>0.717163</td>\n",
       "    </tr>\n",
       "    <tr>\n",
       "      <th>23</th>\n",
       "      <td>3</td>\n",
       "      <td>(lotsize, area, age)</td>\n",
       "      <td>0.737944</td>\n",
       "      <td>2.597213e+12</td>\n",
       "      <td>11661.107762</td>\n",
       "      <td>0.736426</td>\n",
       "    </tr>\n",
       "    <tr>\n",
       "      <th>46</th>\n",
       "      <td>4</td>\n",
       "      <td>(lotsize, area, age, garage)</td>\n",
       "      <td>0.745438</td>\n",
       "      <td>2.522941e+12</td>\n",
       "      <td>11647.962610</td>\n",
       "      <td>0.743468</td>\n",
       "    </tr>\n",
       "    <tr>\n",
       "      <th>58</th>\n",
       "      <td>5</td>\n",
       "      <td>(lotsize, area, beds, age, garage)</td>\n",
       "      <td>0.750063</td>\n",
       "      <td>2.477102e+12</td>\n",
       "      <td>11640.391242</td>\n",
       "      <td>0.747641</td>\n",
       "    </tr>\n",
       "    <tr>\n",
       "      <th>62</th>\n",
       "      <td>6</td>\n",
       "      <td>(lotsize, area, beds, baths, age, garage)</td>\n",
       "      <td>0.751389</td>\n",
       "      <td>2.463958e+12</td>\n",
       "      <td>11639.613904</td>\n",
       "      <td>0.748493</td>\n",
       "    </tr>\n",
       "  </tbody>\n",
       "</table>\n",
       "</div>"
      ],
      "text/plain": [
       "    n_features                                   features  R-squared  \\\n",
       "1            1                                    (area,)   0.671531   \n",
       "13           2                                (area, age)   0.718249   \n",
       "23           3                       (lotsize, area, age)   0.737944   \n",
       "46           4               (lotsize, area, age, garage)   0.745438   \n",
       "58           5         (lotsize, area, beds, age, garage)   0.750063   \n",
       "62           6  (lotsize, area, beds, baths, age, garage)   0.751389   \n",
       "\n",
       "             SSE           AIC  adj_R-squared  \n",
       "1   3.255426e+12  11775.019159       0.670900  \n",
       "13  2.792410e+12  11696.934938       0.717163  \n",
       "23  2.597213e+12  11661.107762       0.736426  \n",
       "46  2.522941e+12  11647.962610       0.743468  \n",
       "58  2.477102e+12  11640.391242       0.747641  \n",
       "62  2.463958e+12  11639.613904       0.748493  "
      ]
     },
     "execution_count": 449,
     "metadata": {},
     "output_type": "execute_result"
    }
   ],
   "source": [
    "df2"
   ]
  },
  {
   "cell_type": "code",
   "execution_count": 450,
   "metadata": {},
   "outputs": [],
   "source": [
    "# AIC best model"
   ]
  },
  {
   "cell_type": "code",
   "execution_count": 452,
   "metadata": {},
   "outputs": [
    {
     "data": {
      "text/html": [
       "<div>\n",
       "<style scoped>\n",
       "    .dataframe tbody tr th:only-of-type {\n",
       "        vertical-align: middle;\n",
       "    }\n",
       "\n",
       "    .dataframe tbody tr th {\n",
       "        vertical-align: top;\n",
       "    }\n",
       "\n",
       "    .dataframe thead th {\n",
       "        text-align: right;\n",
       "    }\n",
       "</style>\n",
       "<table border=\"1\" class=\"dataframe\">\n",
       "  <thead>\n",
       "    <tr style=\"text-align: right;\">\n",
       "      <th></th>\n",
       "      <th>n_features</th>\n",
       "      <th>features</th>\n",
       "      <th>R-squared</th>\n",
       "      <th>SSE</th>\n",
       "      <th>AIC</th>\n",
       "      <th>adj_R-squared</th>\n",
       "    </tr>\n",
       "  </thead>\n",
       "  <tbody>\n",
       "    <tr>\n",
       "      <th>62</th>\n",
       "      <td>6</td>\n",
       "      <td>(lotsize, area, beds, baths, age, garage)</td>\n",
       "      <td>0.751389</td>\n",
       "      <td>2.463958e+12</td>\n",
       "      <td>11639.613904</td>\n",
       "      <td>0.748493</td>\n",
       "    </tr>\n",
       "  </tbody>\n",
       "</table>\n",
       "</div>"
      ],
      "text/plain": [
       "    n_features                                   features  R-squared  \\\n",
       "62           6  (lotsize, area, beds, baths, age, garage)   0.751389   \n",
       "\n",
       "             SSE           AIC  adj_R-squared  \n",
       "62  2.463958e+12  11639.613904       0.748493  "
      ]
     },
     "execution_count": 452,
     "metadata": {},
     "output_type": "execute_result"
    }
   ],
   "source": [
    "df2[df2.AIC == df2.AIC.min()]"
   ]
  },
  {
   "cell_type": "code",
   "execution_count": 453,
   "metadata": {},
   "outputs": [
    {
     "data": {
      "text/plain": [
       "['lotsize', 'area', 'beds', 'baths', 'age', 'garage']"
      ]
     },
     "execution_count": 453,
     "metadata": {},
     "output_type": "execute_result"
    }
   ],
   "source": [
    "list2 = [\"lotsize\",\"area\",\"beds\",\"baths\",\"age\",\"garage\"]\n",
    "list2"
   ]
  },
  {
   "cell_type": "code",
   "execution_count": 454,
   "metadata": {},
   "outputs": [
    {
     "data": {
      "text/html": [
       "<div>\n",
       "<style scoped>\n",
       "    .dataframe tbody tr th:only-of-type {\n",
       "        vertical-align: middle;\n",
       "    }\n",
       "\n",
       "    .dataframe tbody tr th {\n",
       "        vertical-align: top;\n",
       "    }\n",
       "\n",
       "    .dataframe thead th {\n",
       "        text-align: right;\n",
       "    }\n",
       "</style>\n",
       "<table border=\"1\" class=\"dataframe\">\n",
       "  <thead>\n",
       "    <tr style=\"text-align: right;\">\n",
       "      <th></th>\n",
       "      <th>lotsize</th>\n",
       "      <th>area</th>\n",
       "      <th>beds</th>\n",
       "      <th>baths</th>\n",
       "      <th>age</th>\n",
       "      <th>garage</th>\n",
       "    </tr>\n",
       "  </thead>\n",
       "  <tbody>\n",
       "    <tr>\n",
       "      <th>0</th>\n",
       "      <td>22221</td>\n",
       "      <td>3032</td>\n",
       "      <td>4</td>\n",
       "      <td>4</td>\n",
       "      <td>29</td>\n",
       "      <td>2</td>\n",
       "    </tr>\n",
       "    <tr>\n",
       "      <th>1</th>\n",
       "      <td>22912</td>\n",
       "      <td>2058</td>\n",
       "      <td>4</td>\n",
       "      <td>2</td>\n",
       "      <td>25</td>\n",
       "      <td>2</td>\n",
       "    </tr>\n",
       "    <tr>\n",
       "      <th>2</th>\n",
       "      <td>21345</td>\n",
       "      <td>1780</td>\n",
       "      <td>4</td>\n",
       "      <td>3</td>\n",
       "      <td>21</td>\n",
       "      <td>2</td>\n",
       "    </tr>\n",
       "    <tr>\n",
       "      <th>3</th>\n",
       "      <td>17342</td>\n",
       "      <td>1638</td>\n",
       "      <td>4</td>\n",
       "      <td>2</td>\n",
       "      <td>38</td>\n",
       "      <td>2</td>\n",
       "    </tr>\n",
       "    <tr>\n",
       "      <th>4</th>\n",
       "      <td>21786</td>\n",
       "      <td>2196</td>\n",
       "      <td>4</td>\n",
       "      <td>3</td>\n",
       "      <td>33</td>\n",
       "      <td>2</td>\n",
       "    </tr>\n",
       "  </tbody>\n",
       "</table>\n",
       "</div>"
      ],
      "text/plain": [
       "   lotsize  area  beds  baths  age  garage\n",
       "0    22221  3032     4      4   29       2\n",
       "1    22912  2058     4      2   25       2\n",
       "2    21345  1780     4      3   21       2\n",
       "3    17342  1638     4      2   38       2\n",
       "4    21786  2196     4      3   33       2"
      ]
     },
     "execution_count": 454,
     "metadata": {},
     "output_type": "execute_result"
    }
   ],
   "source": [
    "Df_new = X1[list2]\n",
    "Df_new[:5]"
   ]
  },
  {
   "cell_type": "code",
   "execution_count": 455,
   "metadata": {},
   "outputs": [],
   "source": [
    "m_new = LinearRegression().fit(Df_new,Y1)"
   ]
  },
  {
   "cell_type": "code",
   "execution_count": 458,
   "metadata": {},
   "outputs": [
    {
     "data": {
      "text/plain": [
       "array([ 1.55499026e+00,  1.25738603e+02, -1.30413942e+04,  7.98755183e+03,\n",
       "       -1.77961084e+03,  2.25303793e+04])"
      ]
     },
     "execution_count": 458,
     "metadata": {},
     "output_type": "execute_result"
    }
   ],
   "source": [
    "m_new.coef_"
   ]
  },
  {
   "cell_type": "code",
   "execution_count": 461,
   "metadata": {},
   "outputs": [
    {
     "data": {
      "text/plain": [
       "-6707.538166642073"
      ]
     },
     "execution_count": 461,
     "metadata": {},
     "output_type": "execute_result"
    }
   ],
   "source": [
    "m_new.intercept_"
   ]
  },
  {
   "cell_type": "markdown",
   "metadata": {},
   "source": [
    "#### Answer 5"
   ]
  },
  {
   "cell_type": "code",
   "execution_count": 462,
   "metadata": {},
   "outputs": [
    {
     "name": "stdout",
     "output_type": "stream",
     "text": [
      "Price = -6707.538166642073 + 1.5549902587125097 *lotsize + 125.73860274607578 *area + -13041.394214126049 *beds + 7987.551827467522 *baths+ -1779.6108381452011 *age + 22530.379288592536 *garage\n"
     ]
    }
   ],
   "source": [
    "print(\"Price =\",m_new.intercept_ ,\"+\",m_new.coef_[0],\"*lotsize +\",m_new.coef_[1],\"*area +\",m_new.coef_[2],\"*beds +\",m_new.coef_[3],\"*baths+\",m_new.coef_[4],\"*age +\",m_new.coef_[5],\"*garage\")"
   ]
  },
  {
   "cell_type": "markdown",
   "metadata": {},
   "source": [
    "### Consider predictors lotsize and quality only"
   ]
  },
  {
   "cell_type": "markdown",
   "metadata": {},
   "source": [
    "### 6.Fit a linear regression model and fitted equations"
   ]
  },
  {
   "cell_type": "code",
   "execution_count": 471,
   "metadata": {},
   "outputs": [
    {
     "data": {
      "text/html": [
       "<div>\n",
       "<style scoped>\n",
       "    .dataframe tbody tr th:only-of-type {\n",
       "        vertical-align: middle;\n",
       "    }\n",
       "\n",
       "    .dataframe tbody tr th {\n",
       "        vertical-align: top;\n",
       "    }\n",
       "\n",
       "    .dataframe thead th {\n",
       "        text-align: right;\n",
       "    }\n",
       "</style>\n",
       "<table border=\"1\" class=\"dataframe\">\n",
       "  <thead>\n",
       "    <tr style=\"text-align: right;\">\n",
       "      <th></th>\n",
       "      <th>lotsize</th>\n",
       "      <th>quality</th>\n",
       "      <th>price</th>\n",
       "    </tr>\n",
       "  </thead>\n",
       "  <tbody>\n",
       "    <tr>\n",
       "      <th>0</th>\n",
       "      <td>22221</td>\n",
       "      <td>MEDIUM</td>\n",
       "      <td>360000</td>\n",
       "    </tr>\n",
       "    <tr>\n",
       "      <th>1</th>\n",
       "      <td>22912</td>\n",
       "      <td>MEDIUM</td>\n",
       "      <td>340000</td>\n",
       "    </tr>\n",
       "    <tr>\n",
       "      <th>2</th>\n",
       "      <td>21345</td>\n",
       "      <td>MEDIUM</td>\n",
       "      <td>250000</td>\n",
       "    </tr>\n",
       "    <tr>\n",
       "      <th>3</th>\n",
       "      <td>17342</td>\n",
       "      <td>MEDIUM</td>\n",
       "      <td>205500</td>\n",
       "    </tr>\n",
       "    <tr>\n",
       "      <th>4</th>\n",
       "      <td>21786</td>\n",
       "      <td>MEDIUM</td>\n",
       "      <td>275500</td>\n",
       "    </tr>\n",
       "  </tbody>\n",
       "</table>\n",
       "</div>"
      ],
      "text/plain": [
       "   lotsize quality   price\n",
       "0    22221  MEDIUM  360000\n",
       "1    22912  MEDIUM  340000\n",
       "2    21345  MEDIUM  250000\n",
       "3    17342  MEDIUM  205500\n",
       "4    21786  MEDIUM  275500"
      ]
     },
     "execution_count": 471,
     "metadata": {},
     "output_type": "execute_result"
    }
   ],
   "source": [
    "df3 = df1[[\"lotsize\", \"quality\",\"price\"]]\n",
    "df3[:5]"
   ]
  },
  {
   "cell_type": "code",
   "execution_count": 472,
   "metadata": {},
   "outputs": [
    {
     "data": {
      "text/plain": [
       "array(['MEDIUM', 'LOW', 'HIGH'], dtype=object)"
      ]
     },
     "execution_count": 472,
     "metadata": {},
     "output_type": "execute_result"
    }
   ],
   "source": [
    "df3[\"quality\"].unique()"
   ]
  },
  {
   "cell_type": "code",
   "execution_count": 473,
   "metadata": {},
   "outputs": [],
   "source": [
    "# Encode categorical vars"
   ]
  },
  {
   "cell_type": "code",
   "execution_count": 474,
   "metadata": {},
   "outputs": [],
   "source": [
    "price1 = pd.get_dummies(df3,columns = [\"quality\"],\n",
    "                       drop_first = True)"
   ]
  },
  {
   "cell_type": "code",
   "execution_count": 476,
   "metadata": {},
   "outputs": [
    {
     "data": {
      "text/html": [
       "<div>\n",
       "<style scoped>\n",
       "    .dataframe tbody tr th:only-of-type {\n",
       "        vertical-align: middle;\n",
       "    }\n",
       "\n",
       "    .dataframe tbody tr th {\n",
       "        vertical-align: top;\n",
       "    }\n",
       "\n",
       "    .dataframe thead th {\n",
       "        text-align: right;\n",
       "    }\n",
       "</style>\n",
       "<table border=\"1\" class=\"dataframe\">\n",
       "  <thead>\n",
       "    <tr style=\"text-align: right;\">\n",
       "      <th></th>\n",
       "      <th>lotsize</th>\n",
       "      <th>price</th>\n",
       "      <th>quality_LOW</th>\n",
       "      <th>quality_MEDIUM</th>\n",
       "    </tr>\n",
       "  </thead>\n",
       "  <tbody>\n",
       "    <tr>\n",
       "      <th>0</th>\n",
       "      <td>22221</td>\n",
       "      <td>360000</td>\n",
       "      <td>0</td>\n",
       "      <td>1</td>\n",
       "    </tr>\n",
       "    <tr>\n",
       "      <th>1</th>\n",
       "      <td>22912</td>\n",
       "      <td>340000</td>\n",
       "      <td>0</td>\n",
       "      <td>1</td>\n",
       "    </tr>\n",
       "    <tr>\n",
       "      <th>2</th>\n",
       "      <td>21345</td>\n",
       "      <td>250000</td>\n",
       "      <td>0</td>\n",
       "      <td>1</td>\n",
       "    </tr>\n",
       "    <tr>\n",
       "      <th>3</th>\n",
       "      <td>17342</td>\n",
       "      <td>205500</td>\n",
       "      <td>0</td>\n",
       "      <td>1</td>\n",
       "    </tr>\n",
       "    <tr>\n",
       "      <th>4</th>\n",
       "      <td>21786</td>\n",
       "      <td>275500</td>\n",
       "      <td>0</td>\n",
       "      <td>1</td>\n",
       "    </tr>\n",
       "    <tr>\n",
       "      <th>5</th>\n",
       "      <td>18902</td>\n",
       "      <td>248000</td>\n",
       "      <td>0</td>\n",
       "      <td>1</td>\n",
       "    </tr>\n",
       "    <tr>\n",
       "      <th>6</th>\n",
       "      <td>18639</td>\n",
       "      <td>229900</td>\n",
       "      <td>0</td>\n",
       "      <td>1</td>\n",
       "    </tr>\n",
       "    <tr>\n",
       "      <th>7</th>\n",
       "      <td>22112</td>\n",
       "      <td>150000</td>\n",
       "      <td>0</td>\n",
       "      <td>1</td>\n",
       "    </tr>\n",
       "    <tr>\n",
       "      <th>8</th>\n",
       "      <td>14321</td>\n",
       "      <td>195000</td>\n",
       "      <td>1</td>\n",
       "      <td>0</td>\n",
       "    </tr>\n",
       "    <tr>\n",
       "      <th>9</th>\n",
       "      <td>32358</td>\n",
       "      <td>160000</td>\n",
       "      <td>1</td>\n",
       "      <td>0</td>\n",
       "    </tr>\n",
       "    <tr>\n",
       "      <th>10</th>\n",
       "      <td>56639</td>\n",
       "      <td>190000</td>\n",
       "      <td>1</td>\n",
       "      <td>0</td>\n",
       "    </tr>\n",
       "    <tr>\n",
       "      <th>11</th>\n",
       "      <td>30595</td>\n",
       "      <td>559000</td>\n",
       "      <td>0</td>\n",
       "      <td>0</td>\n",
       "    </tr>\n",
       "    <tr>\n",
       "      <th>12</th>\n",
       "      <td>23172</td>\n",
       "      <td>535000</td>\n",
       "      <td>0</td>\n",
       "      <td>0</td>\n",
       "    </tr>\n",
       "    <tr>\n",
       "      <th>13</th>\n",
       "      <td>35351</td>\n",
       "      <td>525000</td>\n",
       "      <td>0</td>\n",
       "      <td>0</td>\n",
       "    </tr>\n",
       "    <tr>\n",
       "      <th>14</th>\n",
       "      <td>24025</td>\n",
       "      <td>299900</td>\n",
       "      <td>0</td>\n",
       "      <td>1</td>\n",
       "    </tr>\n",
       "  </tbody>\n",
       "</table>\n",
       "</div>"
      ],
      "text/plain": [
       "    lotsize   price  quality_LOW  quality_MEDIUM\n",
       "0     22221  360000            0               1\n",
       "1     22912  340000            0               1\n",
       "2     21345  250000            0               1\n",
       "3     17342  205500            0               1\n",
       "4     21786  275500            0               1\n",
       "5     18902  248000            0               1\n",
       "6     18639  229900            0               1\n",
       "7     22112  150000            0               1\n",
       "8     14321  195000            1               0\n",
       "9     32358  160000            1               0\n",
       "10    56639  190000            1               0\n",
       "11    30595  559000            0               0\n",
       "12    23172  535000            0               0\n",
       "13    35351  525000            0               0\n",
       "14    24025  299900            0               1"
      ]
     },
     "execution_count": 476,
     "metadata": {},
     "output_type": "execute_result"
    }
   ],
   "source": [
    "price1[:15]"
   ]
  },
  {
   "cell_type": "code",
   "execution_count": 477,
   "metadata": {},
   "outputs": [],
   "source": [
    "list3 = [\"lotsize\",\"quality_LOW\",\"quality_MEDIUM\"]"
   ]
  },
  {
   "cell_type": "code",
   "execution_count": 479,
   "metadata": {},
   "outputs": [],
   "source": [
    "X_new = price1[list3]"
   ]
  },
  {
   "cell_type": "code",
   "execution_count": 480,
   "metadata": {},
   "outputs": [],
   "source": [
    "Y_new = price1[\"price\"]"
   ]
  },
  {
   "cell_type": "code",
   "execution_count": 481,
   "metadata": {},
   "outputs": [],
   "source": [
    "M = LinearRegression().fit(X_new,Y_new)"
   ]
  },
  {
   "cell_type": "code",
   "execution_count": 483,
   "metadata": {},
   "outputs": [
    {
     "data": {
      "text/plain": [
       "array([ 1.64205257e+00, -3.61721638e+05, -2.66554186e+05])"
      ]
     },
     "execution_count": 483,
     "metadata": {},
     "output_type": "execute_result"
    }
   ],
   "source": [
    "M.coef_"
   ]
  },
  {
   "cell_type": "code",
   "execution_count": 484,
   "metadata": {},
   "outputs": [
    {
     "data": {
      "text/plain": [
       "499607.81588552624"
      ]
     },
     "execution_count": 484,
     "metadata": {},
     "output_type": "execute_result"
    }
   ],
   "source": [
    "M.intercept_"
   ]
  },
  {
   "cell_type": "markdown",
   "metadata": {},
   "source": [
    "#### Answer 6"
   ]
  },
  {
   "cell_type": "code",
   "execution_count": 485,
   "metadata": {},
   "outputs": [
    {
     "name": "stdout",
     "output_type": "stream",
     "text": [
      "Price = 499607.81588552624 + 1.6420525652315556 *lotsize + -361721.6383357747 *quality_LOW + -266554.1858577667 *quality_MEDIUM\n"
     ]
    }
   ],
   "source": [
    "print(\"Price =\",M.intercept_ ,\"+\",M.coef_[0],\"*lotsize +\",M.coef_[1],\"*quality_LOW +\",M.coef_[2],\"*quality_MEDIUM\")"
   ]
  },
  {
   "cell_type": "markdown",
   "metadata": {},
   "source": [
    "### Question 7"
   ]
  },
  {
   "cell_type": "code",
   "execution_count": 488,
   "metadata": {},
   "outputs": [
    {
     "data": {
      "text/html": [
       "<div>\n",
       "<style scoped>\n",
       "    .dataframe tbody tr th:only-of-type {\n",
       "        vertical-align: middle;\n",
       "    }\n",
       "\n",
       "    .dataframe tbody tr th {\n",
       "        vertical-align: top;\n",
       "    }\n",
       "\n",
       "    .dataframe thead th {\n",
       "        text-align: right;\n",
       "    }\n",
       "</style>\n",
       "<table border=\"1\" class=\"dataframe\">\n",
       "  <thead>\n",
       "    <tr style=\"text-align: right;\">\n",
       "      <th></th>\n",
       "      <th>lotsize</th>\n",
       "      <th>quality_LOW</th>\n",
       "      <th>quality_MEDIUM</th>\n",
       "    </tr>\n",
       "  </thead>\n",
       "  <tbody>\n",
       "    <tr>\n",
       "      <th>0</th>\n",
       "      <td>40000</td>\n",
       "      <td>0</td>\n",
       "      <td>1</td>\n",
       "    </tr>\n",
       "  </tbody>\n",
       "</table>\n",
       "</div>"
      ],
      "text/plain": [
       "   lotsize  quality_LOW  quality_MEDIUM\n",
       "0    40000            0               1"
      ]
     },
     "execution_count": 488,
     "metadata": {},
     "output_type": "execute_result"
    }
   ],
   "source": [
    "newv = pd.DataFrame([[40000,0,1]],columns = [\"lotsize\",\"quality_LOW\",\"quality_MEDIUM\"])\n",
    "newv"
   ]
  },
  {
   "cell_type": "code",
   "execution_count": 495,
   "metadata": {},
   "outputs": [],
   "source": [
    "price_new = M.intercept_ + M.coef_[0]*40000 + M.coef_[1]*0 + M.coef_[2]*1"
   ]
  },
  {
   "cell_type": "code",
   "execution_count": 496,
   "metadata": {},
   "outputs": [
    {
     "data": {
      "text/plain": [
       "298735.73263702175"
      ]
     },
     "execution_count": 496,
     "metadata": {},
     "output_type": "execute_result"
    }
   ],
   "source": [
    "price_new"
   ]
  },
  {
   "cell_type": "markdown",
   "metadata": {},
   "source": [
    "#### Answer 7. We can predict that the price of a house is 298736.73 with lotsize 40000 square feet and median quality."
   ]
  },
  {
   "cell_type": "code",
   "execution_count": 512,
   "metadata": {},
   "outputs": [
    {
     "data": {
      "text/html": [
       "<div>\n",
       "<style scoped>\n",
       "    .dataframe tbody tr th:only-of-type {\n",
       "        vertical-align: middle;\n",
       "    }\n",
       "\n",
       "    .dataframe tbody tr th {\n",
       "        vertical-align: top;\n",
       "    }\n",
       "\n",
       "    .dataframe thead th {\n",
       "        text-align: right;\n",
       "    }\n",
       "</style>\n",
       "<table border=\"1\" class=\"dataframe\">\n",
       "  <thead>\n",
       "    <tr style=\"text-align: right;\">\n",
       "      <th></th>\n",
       "      <th>price</th>\n",
       "      <th>area</th>\n",
       "      <th>beds</th>\n",
       "      <th>baths</th>\n",
       "      <th>garage</th>\n",
       "      <th>age</th>\n",
       "      <th>style</th>\n",
       "      <th>lotsize</th>\n",
       "      <th>ac</th>\n",
       "      <th>pool</th>\n",
       "      <th>quality</th>\n",
       "      <th>highway</th>\n",
       "    </tr>\n",
       "  </thead>\n",
       "  <tbody>\n",
       "    <tr>\n",
       "      <th>0</th>\n",
       "      <td>360000</td>\n",
       "      <td>3032</td>\n",
       "      <td>4</td>\n",
       "      <td>4</td>\n",
       "      <td>2</td>\n",
       "      <td>29</td>\n",
       "      <td>1</td>\n",
       "      <td>22221</td>\n",
       "      <td>YES</td>\n",
       "      <td>NO</td>\n",
       "      <td>MEDIUM</td>\n",
       "      <td>NO</td>\n",
       "    </tr>\n",
       "    <tr>\n",
       "      <th>1</th>\n",
       "      <td>340000</td>\n",
       "      <td>2058</td>\n",
       "      <td>4</td>\n",
       "      <td>2</td>\n",
       "      <td>2</td>\n",
       "      <td>25</td>\n",
       "      <td>1</td>\n",
       "      <td>22912</td>\n",
       "      <td>YES</td>\n",
       "      <td>NO</td>\n",
       "      <td>MEDIUM</td>\n",
       "      <td>NO</td>\n",
       "    </tr>\n",
       "    <tr>\n",
       "      <th>2</th>\n",
       "      <td>250000</td>\n",
       "      <td>1780</td>\n",
       "      <td>4</td>\n",
       "      <td>3</td>\n",
       "      <td>2</td>\n",
       "      <td>21</td>\n",
       "      <td>1</td>\n",
       "      <td>21345</td>\n",
       "      <td>YES</td>\n",
       "      <td>NO</td>\n",
       "      <td>MEDIUM</td>\n",
       "      <td>NO</td>\n",
       "    </tr>\n",
       "    <tr>\n",
       "      <th>3</th>\n",
       "      <td>205500</td>\n",
       "      <td>1638</td>\n",
       "      <td>4</td>\n",
       "      <td>2</td>\n",
       "      <td>2</td>\n",
       "      <td>38</td>\n",
       "      <td>1</td>\n",
       "      <td>17342</td>\n",
       "      <td>YES</td>\n",
       "      <td>NO</td>\n",
       "      <td>MEDIUM</td>\n",
       "      <td>NO</td>\n",
       "    </tr>\n",
       "    <tr>\n",
       "      <th>4</th>\n",
       "      <td>275500</td>\n",
       "      <td>2196</td>\n",
       "      <td>4</td>\n",
       "      <td>3</td>\n",
       "      <td>2</td>\n",
       "      <td>33</td>\n",
       "      <td>7</td>\n",
       "      <td>21786</td>\n",
       "      <td>YES</td>\n",
       "      <td>NO</td>\n",
       "      <td>MEDIUM</td>\n",
       "      <td>NO</td>\n",
       "    </tr>\n",
       "    <tr>\n",
       "      <th>5</th>\n",
       "      <td>248000</td>\n",
       "      <td>1966</td>\n",
       "      <td>4</td>\n",
       "      <td>3</td>\n",
       "      <td>5</td>\n",
       "      <td>29</td>\n",
       "      <td>1</td>\n",
       "      <td>18902</td>\n",
       "      <td>YES</td>\n",
       "      <td>YES</td>\n",
       "      <td>MEDIUM</td>\n",
       "      <td>NO</td>\n",
       "    </tr>\n",
       "    <tr>\n",
       "      <th>6</th>\n",
       "      <td>229900</td>\n",
       "      <td>2216</td>\n",
       "      <td>3</td>\n",
       "      <td>2</td>\n",
       "      <td>2</td>\n",
       "      <td>29</td>\n",
       "      <td>7</td>\n",
       "      <td>18639</td>\n",
       "      <td>YES</td>\n",
       "      <td>NO</td>\n",
       "      <td>MEDIUM</td>\n",
       "      <td>NO</td>\n",
       "    </tr>\n",
       "    <tr>\n",
       "      <th>7</th>\n",
       "      <td>150000</td>\n",
       "      <td>1597</td>\n",
       "      <td>2</td>\n",
       "      <td>1</td>\n",
       "      <td>1</td>\n",
       "      <td>46</td>\n",
       "      <td>1</td>\n",
       "      <td>22112</td>\n",
       "      <td>YES</td>\n",
       "      <td>NO</td>\n",
       "      <td>MEDIUM</td>\n",
       "      <td>NO</td>\n",
       "    </tr>\n",
       "    <tr>\n",
       "      <th>8</th>\n",
       "      <td>195000</td>\n",
       "      <td>1622</td>\n",
       "      <td>3</td>\n",
       "      <td>2</td>\n",
       "      <td>2</td>\n",
       "      <td>26</td>\n",
       "      <td>1</td>\n",
       "      <td>14321</td>\n",
       "      <td>YES</td>\n",
       "      <td>NO</td>\n",
       "      <td>LOW</td>\n",
       "      <td>NO</td>\n",
       "    </tr>\n",
       "    <tr>\n",
       "      <th>9</th>\n",
       "      <td>160000</td>\n",
       "      <td>1976</td>\n",
       "      <td>3</td>\n",
       "      <td>3</td>\n",
       "      <td>1</td>\n",
       "      <td>83</td>\n",
       "      <td>1</td>\n",
       "      <td>32358</td>\n",
       "      <td>NO</td>\n",
       "      <td>NO</td>\n",
       "      <td>LOW</td>\n",
       "      <td>NO</td>\n",
       "    </tr>\n",
       "  </tbody>\n",
       "</table>\n",
       "</div>"
      ],
      "text/plain": [
       "    price  area  beds  baths  garage  age  style  lotsize   ac pool quality  \\\n",
       "0  360000  3032     4      4       2   29      1    22221  YES   NO  MEDIUM   \n",
       "1  340000  2058     4      2       2   25      1    22912  YES   NO  MEDIUM   \n",
       "2  250000  1780     4      3       2   21      1    21345  YES   NO  MEDIUM   \n",
       "3  205500  1638     4      2       2   38      1    17342  YES   NO  MEDIUM   \n",
       "4  275500  2196     4      3       2   33      7    21786  YES   NO  MEDIUM   \n",
       "5  248000  1966     4      3       5   29      1    18902  YES  YES  MEDIUM   \n",
       "6  229900  2216     3      2       2   29      7    18639  YES   NO  MEDIUM   \n",
       "7  150000  1597     2      1       1   46      1    22112  YES   NO  MEDIUM   \n",
       "8  195000  1622     3      2       2   26      1    14321  YES   NO     LOW   \n",
       "9  160000  1976     3      3       1   83      1    32358   NO   NO     LOW   \n",
       "\n",
       "  highway  \n",
       "0      NO  \n",
       "1      NO  \n",
       "2      NO  \n",
       "3      NO  \n",
       "4      NO  \n",
       "5      NO  \n",
       "6      NO  \n",
       "7      NO  \n",
       "8      NO  \n",
       "9      NO  "
      ]
     },
     "execution_count": 512,
     "metadata": {},
     "output_type": "execute_result"
    }
   ],
   "source": [
    "df3=df1[(df1.beds >= 2) & (df1.beds <= 4)] \n",
    "df3[:10]"
   ]
  },
  {
   "cell_type": "code",
   "execution_count": 525,
   "metadata": {},
   "outputs": [],
   "source": [
    "df3_new = pd.get_dummies(df3,columns = [\"style\",\"ac\",\"pool\",\"quality\",\"highway\"],\n",
    "                        drop_first = True)"
   ]
  },
  {
   "cell_type": "code",
   "execution_count": 526,
   "metadata": {},
   "outputs": [
    {
     "data": {
      "text/html": [
       "<div>\n",
       "<style scoped>\n",
       "    .dataframe tbody tr th:only-of-type {\n",
       "        vertical-align: middle;\n",
       "    }\n",
       "\n",
       "    .dataframe tbody tr th {\n",
       "        vertical-align: top;\n",
       "    }\n",
       "\n",
       "    .dataframe thead th {\n",
       "        text-align: right;\n",
       "    }\n",
       "</style>\n",
       "<table border=\"1\" class=\"dataframe\">\n",
       "  <thead>\n",
       "    <tr style=\"text-align: right;\">\n",
       "      <th></th>\n",
       "      <th>price</th>\n",
       "      <th>area</th>\n",
       "      <th>beds</th>\n",
       "      <th>baths</th>\n",
       "      <th>garage</th>\n",
       "      <th>age</th>\n",
       "      <th>lotsize</th>\n",
       "      <th>style_2</th>\n",
       "      <th>style_3</th>\n",
       "      <th>style_4</th>\n",
       "      <th>style_5</th>\n",
       "      <th>style_6</th>\n",
       "      <th>style_7</th>\n",
       "      <th>style_9</th>\n",
       "      <th>ac_YES</th>\n",
       "      <th>pool_YES</th>\n",
       "      <th>quality_LOW</th>\n",
       "      <th>quality_MEDIUM</th>\n",
       "      <th>highway_YES</th>\n",
       "    </tr>\n",
       "  </thead>\n",
       "  <tbody>\n",
       "    <tr>\n",
       "      <th>0</th>\n",
       "      <td>360000</td>\n",
       "      <td>3032</td>\n",
       "      <td>4</td>\n",
       "      <td>4</td>\n",
       "      <td>2</td>\n",
       "      <td>29</td>\n",
       "      <td>22221</td>\n",
       "      <td>0</td>\n",
       "      <td>0</td>\n",
       "      <td>0</td>\n",
       "      <td>0</td>\n",
       "      <td>0</td>\n",
       "      <td>0</td>\n",
       "      <td>0</td>\n",
       "      <td>1</td>\n",
       "      <td>0</td>\n",
       "      <td>0</td>\n",
       "      <td>1</td>\n",
       "      <td>0</td>\n",
       "    </tr>\n",
       "    <tr>\n",
       "      <th>1</th>\n",
       "      <td>340000</td>\n",
       "      <td>2058</td>\n",
       "      <td>4</td>\n",
       "      <td>2</td>\n",
       "      <td>2</td>\n",
       "      <td>25</td>\n",
       "      <td>22912</td>\n",
       "      <td>0</td>\n",
       "      <td>0</td>\n",
       "      <td>0</td>\n",
       "      <td>0</td>\n",
       "      <td>0</td>\n",
       "      <td>0</td>\n",
       "      <td>0</td>\n",
       "      <td>1</td>\n",
       "      <td>0</td>\n",
       "      <td>0</td>\n",
       "      <td>1</td>\n",
       "      <td>0</td>\n",
       "    </tr>\n",
       "    <tr>\n",
       "      <th>2</th>\n",
       "      <td>250000</td>\n",
       "      <td>1780</td>\n",
       "      <td>4</td>\n",
       "      <td>3</td>\n",
       "      <td>2</td>\n",
       "      <td>21</td>\n",
       "      <td>21345</td>\n",
       "      <td>0</td>\n",
       "      <td>0</td>\n",
       "      <td>0</td>\n",
       "      <td>0</td>\n",
       "      <td>0</td>\n",
       "      <td>0</td>\n",
       "      <td>0</td>\n",
       "      <td>1</td>\n",
       "      <td>0</td>\n",
       "      <td>0</td>\n",
       "      <td>1</td>\n",
       "      <td>0</td>\n",
       "    </tr>\n",
       "    <tr>\n",
       "      <th>3</th>\n",
       "      <td>205500</td>\n",
       "      <td>1638</td>\n",
       "      <td>4</td>\n",
       "      <td>2</td>\n",
       "      <td>2</td>\n",
       "      <td>38</td>\n",
       "      <td>17342</td>\n",
       "      <td>0</td>\n",
       "      <td>0</td>\n",
       "      <td>0</td>\n",
       "      <td>0</td>\n",
       "      <td>0</td>\n",
       "      <td>0</td>\n",
       "      <td>0</td>\n",
       "      <td>1</td>\n",
       "      <td>0</td>\n",
       "      <td>0</td>\n",
       "      <td>1</td>\n",
       "      <td>0</td>\n",
       "    </tr>\n",
       "    <tr>\n",
       "      <th>4</th>\n",
       "      <td>275500</td>\n",
       "      <td>2196</td>\n",
       "      <td>4</td>\n",
       "      <td>3</td>\n",
       "      <td>2</td>\n",
       "      <td>33</td>\n",
       "      <td>21786</td>\n",
       "      <td>0</td>\n",
       "      <td>0</td>\n",
       "      <td>0</td>\n",
       "      <td>0</td>\n",
       "      <td>0</td>\n",
       "      <td>1</td>\n",
       "      <td>0</td>\n",
       "      <td>1</td>\n",
       "      <td>0</td>\n",
       "      <td>0</td>\n",
       "      <td>1</td>\n",
       "      <td>0</td>\n",
       "    </tr>\n",
       "  </tbody>\n",
       "</table>\n",
       "</div>"
      ],
      "text/plain": [
       "    price  area  beds  baths  garage  age  lotsize  style_2  style_3  style_4  \\\n",
       "0  360000  3032     4      4       2   29    22221        0        0        0   \n",
       "1  340000  2058     4      2       2   25    22912        0        0        0   \n",
       "2  250000  1780     4      3       2   21    21345        0        0        0   \n",
       "3  205500  1638     4      2       2   38    17342        0        0        0   \n",
       "4  275500  2196     4      3       2   33    21786        0        0        0   \n",
       "\n",
       "   style_5  style_6  style_7  style_9  ac_YES  pool_YES  quality_LOW  \\\n",
       "0        0        0        0        0       1         0            0   \n",
       "1        0        0        0        0       1         0            0   \n",
       "2        0        0        0        0       1         0            0   \n",
       "3        0        0        0        0       1         0            0   \n",
       "4        0        0        1        0       1         0            0   \n",
       "\n",
       "   quality_MEDIUM  highway_YES  \n",
       "0               1            0  \n",
       "1               1            0  \n",
       "2               1            0  \n",
       "3               1            0  \n",
       "4               1            0  "
      ]
     },
     "execution_count": 526,
     "metadata": {},
     "output_type": "execute_result"
    }
   ],
   "source": [
    "df3_new[:5]"
   ]
  },
  {
   "cell_type": "code",
   "execution_count": 527,
   "metadata": {},
   "outputs": [
    {
     "data": {
      "text/html": [
       "<table class=\"simpletable\">\n",
       "<caption>OLS Regression Results</caption>\n",
       "<tr>\n",
       "  <th>Dep. Variable:</th>          <td>price</td>      <th>  R-squared:         </th> <td>   0.852</td> \n",
       "</tr>\n",
       "<tr>\n",
       "  <th>Model:</th>                   <td>OLS</td>       <th>  Adj. R-squared:    </th> <td>   0.845</td> \n",
       "</tr>\n",
       "<tr>\n",
       "  <th>Method:</th>             <td>Least Squares</td>  <th>  F-statistic:       </th> <td>   135.9</td> \n",
       "</tr>\n",
       "<tr>\n",
       "  <th>Date:</th>             <td>Tue, 24 Sep 2019</td> <th>  Prob (F-statistic):</th> <td>1.08e-163</td>\n",
       "</tr>\n",
       "<tr>\n",
       "  <th>Time:</th>                 <td>15:45:39</td>     <th>  Log-Likelihood:    </th> <td> -5451.8</td> \n",
       "</tr>\n",
       "<tr>\n",
       "  <th>No. Observations:</th>      <td>   445</td>      <th>  AIC:               </th> <td>1.094e+04</td>\n",
       "</tr>\n",
       "<tr>\n",
       "  <th>Df Residuals:</th>          <td>   426</td>      <th>  BIC:               </th> <td>1.102e+04</td>\n",
       "</tr>\n",
       "<tr>\n",
       "  <th>Df Model:</th>              <td>    18</td>      <th>                     </th>     <td> </td>    \n",
       "</tr>\n",
       "<tr>\n",
       "  <th>Covariance Type:</th>      <td>nonrobust</td>    <th>                     </th>     <td> </td>    \n",
       "</tr>\n",
       "</table>\n",
       "<table class=\"simpletable\">\n",
       "<tr>\n",
       "         <td></td>           <th>coef</th>     <th>std err</th>      <th>t</th>      <th>P>|t|</th>  <th>[0.025</th>    <th>0.975]</th>  \n",
       "</tr>\n",
       "<tr>\n",
       "  <th>const</th>          <td> 1.296e+05</td> <td> 2.67e+04</td> <td>    4.848</td> <td> 0.000</td> <td> 7.71e+04</td> <td> 1.82e+05</td>\n",
       "</tr>\n",
       "<tr>\n",
       "  <th>area</th>           <td>  117.2176</td> <td>    7.739</td> <td>   15.146</td> <td> 0.000</td> <td>  102.006</td> <td>  132.429</td>\n",
       "</tr>\n",
       "<tr>\n",
       "  <th>beds</th>           <td>-2222.9820</td> <td> 4148.594</td> <td>   -0.536</td> <td> 0.592</td> <td>-1.04e+04</td> <td> 5931.279</td>\n",
       "</tr>\n",
       "<tr>\n",
       "  <th>baths</th>          <td> 9246.5631</td> <td> 4285.513</td> <td>    2.158</td> <td> 0.032</td> <td>  823.180</td> <td> 1.77e+04</td>\n",
       "</tr>\n",
       "<tr>\n",
       "  <th>garage</th>         <td> 7423.7368</td> <td> 4914.563</td> <td>    1.511</td> <td> 0.132</td> <td>-2236.074</td> <td> 1.71e+04</td>\n",
       "</tr>\n",
       "<tr>\n",
       "  <th>age</th>            <td>-1300.6190</td> <td>  199.782</td> <td>   -6.510</td> <td> 0.000</td> <td>-1693.300</td> <td> -907.938</td>\n",
       "</tr>\n",
       "<tr>\n",
       "  <th>lotsize</th>        <td>    1.3283</td> <td>    0.238</td> <td>    5.584</td> <td> 0.000</td> <td>    0.861</td> <td>    1.796</td>\n",
       "</tr>\n",
       "<tr>\n",
       "  <th>style_2</th>        <td>-2.006e+04</td> <td> 8638.441</td> <td>   -2.322</td> <td> 0.021</td> <td> -3.7e+04</td> <td>-3080.425</td>\n",
       "</tr>\n",
       "<tr>\n",
       "  <th>style_3</th>        <td>-1.151e+04</td> <td> 8251.632</td> <td>   -1.395</td> <td> 0.164</td> <td>-2.77e+04</td> <td> 4707.107</td>\n",
       "</tr>\n",
       "<tr>\n",
       "  <th>style_4</th>        <td>  2.31e+04</td> <td> 1.72e+04</td> <td>    1.346</td> <td> 0.179</td> <td>-1.06e+04</td> <td> 5.68e+04</td>\n",
       "</tr>\n",
       "<tr>\n",
       "  <th>style_5</th>        <td>-7407.6304</td> <td> 1.55e+04</td> <td>   -0.479</td> <td> 0.632</td> <td>-3.78e+04</td> <td>  2.3e+04</td>\n",
       "</tr>\n",
       "<tr>\n",
       "  <th>style_6</th>        <td> -3.06e+04</td> <td> 1.51e+04</td> <td>   -2.029</td> <td> 0.043</td> <td>-6.02e+04</td> <td> -951.905</td>\n",
       "</tr>\n",
       "<tr>\n",
       "  <th>style_7</th>        <td>-4.664e+04</td> <td> 8514.836</td> <td>   -5.477</td> <td> 0.000</td> <td>-6.34e+04</td> <td>-2.99e+04</td>\n",
       "</tr>\n",
       "<tr>\n",
       "  <th>style_9</th>        <td>-9.094e+04</td> <td> 5.26e+04</td> <td>   -1.728</td> <td> 0.085</td> <td>-1.94e+05</td> <td> 1.25e+04</td>\n",
       "</tr>\n",
       "<tr>\n",
       "  <th>ac_YES</th>         <td>-1075.0761</td> <td> 7501.411</td> <td>   -0.143</td> <td> 0.886</td> <td>-1.58e+04</td> <td> 1.37e+04</td>\n",
       "</tr>\n",
       "<tr>\n",
       "  <th>pool_YES</th>       <td> 2.163e+04</td> <td> 1.06e+04</td> <td>    2.042</td> <td> 0.042</td> <td>  813.263</td> <td> 4.25e+04</td>\n",
       "</tr>\n",
       "<tr>\n",
       "  <th>quality_LOW</th>    <td>-1.368e+05</td> <td> 1.45e+04</td> <td>   -9.433</td> <td> 0.000</td> <td>-1.65e+05</td> <td>-1.08e+05</td>\n",
       "</tr>\n",
       "<tr>\n",
       "  <th>quality_MEDIUM</th> <td>-1.363e+05</td> <td> 1.08e+04</td> <td>  -12.640</td> <td> 0.000</td> <td>-1.58e+05</td> <td>-1.15e+05</td>\n",
       "</tr>\n",
       "<tr>\n",
       "  <th>highway_YES</th>    <td> -3.18e+04</td> <td> 1.69e+04</td> <td>   -1.884</td> <td> 0.060</td> <td> -6.5e+04</td> <td> 1380.295</td>\n",
       "</tr>\n",
       "</table>\n",
       "<table class=\"simpletable\">\n",
       "<tr>\n",
       "  <th>Omnibus:</th>       <td>58.445</td> <th>  Durbin-Watson:     </th> <td>   1.344</td>\n",
       "</tr>\n",
       "<tr>\n",
       "  <th>Prob(Omnibus):</th> <td> 0.000</td> <th>  Jarque-Bera (JB):  </th> <td> 269.978</td>\n",
       "</tr>\n",
       "<tr>\n",
       "  <th>Skew:</th>          <td> 0.449</td> <th>  Prob(JB):          </th> <td>2.37e-59</td>\n",
       "</tr>\n",
       "<tr>\n",
       "  <th>Kurtosis:</th>      <td> 6.709</td> <th>  Cond. No.          </th> <td>5.71e+05</td>\n",
       "</tr>\n",
       "</table><br/><br/>Warnings:<br/>[1] Standard Errors assume that the covariance matrix of the errors is correctly specified.<br/>[2] The condition number is large, 5.71e+05. This might indicate that there are<br/>strong multicollinearity or other numerical problems."
      ],
      "text/plain": [
       "<class 'statsmodels.iolib.summary.Summary'>\n",
       "\"\"\"\n",
       "                            OLS Regression Results                            \n",
       "==============================================================================\n",
       "Dep. Variable:                  price   R-squared:                       0.852\n",
       "Model:                            OLS   Adj. R-squared:                  0.845\n",
       "Method:                 Least Squares   F-statistic:                     135.9\n",
       "Date:                Tue, 24 Sep 2019   Prob (F-statistic):          1.08e-163\n",
       "Time:                        15:45:39   Log-Likelihood:                -5451.8\n",
       "No. Observations:                 445   AIC:                         1.094e+04\n",
       "Df Residuals:                     426   BIC:                         1.102e+04\n",
       "Df Model:                          18                                         \n",
       "Covariance Type:            nonrobust                                         \n",
       "==================================================================================\n",
       "                     coef    std err          t      P>|t|      [0.025      0.975]\n",
       "----------------------------------------------------------------------------------\n",
       "const           1.296e+05   2.67e+04      4.848      0.000    7.71e+04    1.82e+05\n",
       "area             117.2176      7.739     15.146      0.000     102.006     132.429\n",
       "beds           -2222.9820   4148.594     -0.536      0.592   -1.04e+04    5931.279\n",
       "baths           9246.5631   4285.513      2.158      0.032     823.180    1.77e+04\n",
       "garage          7423.7368   4914.563      1.511      0.132   -2236.074    1.71e+04\n",
       "age            -1300.6190    199.782     -6.510      0.000   -1693.300    -907.938\n",
       "lotsize            1.3283      0.238      5.584      0.000       0.861       1.796\n",
       "style_2        -2.006e+04   8638.441     -2.322      0.021    -3.7e+04   -3080.425\n",
       "style_3        -1.151e+04   8251.632     -1.395      0.164   -2.77e+04    4707.107\n",
       "style_4          2.31e+04   1.72e+04      1.346      0.179   -1.06e+04    5.68e+04\n",
       "style_5        -7407.6304   1.55e+04     -0.479      0.632   -3.78e+04     2.3e+04\n",
       "style_6         -3.06e+04   1.51e+04     -2.029      0.043   -6.02e+04    -951.905\n",
       "style_7        -4.664e+04   8514.836     -5.477      0.000   -6.34e+04   -2.99e+04\n",
       "style_9        -9.094e+04   5.26e+04     -1.728      0.085   -1.94e+05    1.25e+04\n",
       "ac_YES         -1075.0761   7501.411     -0.143      0.886   -1.58e+04    1.37e+04\n",
       "pool_YES        2.163e+04   1.06e+04      2.042      0.042     813.263    4.25e+04\n",
       "quality_LOW    -1.368e+05   1.45e+04     -9.433      0.000   -1.65e+05   -1.08e+05\n",
       "quality_MEDIUM -1.363e+05   1.08e+04    -12.640      0.000   -1.58e+05   -1.15e+05\n",
       "highway_YES     -3.18e+04   1.69e+04     -1.884      0.060    -6.5e+04    1380.295\n",
       "==============================================================================\n",
       "Omnibus:                       58.445   Durbin-Watson:                   1.344\n",
       "Prob(Omnibus):                  0.000   Jarque-Bera (JB):              269.978\n",
       "Skew:                           0.449   Prob(JB):                     2.37e-59\n",
       "Kurtosis:                       6.709   Cond. No.                     5.71e+05\n",
       "==============================================================================\n",
       "\n",
       "Warnings:\n",
       "[1] Standard Errors assume that the covariance matrix of the errors is correctly specified.\n",
       "[2] The condition number is large, 5.71e+05. This might indicate that there are\n",
       "strong multicollinearity or other numerical problems.\n",
       "\"\"\""
      ]
     },
     "execution_count": 527,
     "metadata": {},
     "output_type": "execute_result"
    }
   ],
   "source": [
    "X3 = df3_new.drop(columns = \"price\", axis = 1)\n",
    "Y3 = df3_new[[\"price\"]]\n",
    "X3 = sm.add_constant(X3) # to make the regression function to be eligible\n",
    "m3 = sm.OLS(Y3,X3).fit()\n",
    "m3.summary()"
   ]
  },
  {
   "cell_type": "code",
   "execution_count": 528,
   "metadata": {},
   "outputs": [],
   "source": [
    "# fit the condition for the model"
   ]
  },
  {
   "cell_type": "code",
   "execution_count": 535,
   "metadata": {},
   "outputs": [
    {
     "data": {
      "text/html": [
       "<div>\n",
       "<style scoped>\n",
       "    .dataframe tbody tr th:only-of-type {\n",
       "        vertical-align: middle;\n",
       "    }\n",
       "\n",
       "    .dataframe tbody tr th {\n",
       "        vertical-align: top;\n",
       "    }\n",
       "\n",
       "    .dataframe thead th {\n",
       "        text-align: right;\n",
       "    }\n",
       "</style>\n",
       "<table border=\"1\" class=\"dataframe\">\n",
       "  <thead>\n",
       "    <tr style=\"text-align: right;\">\n",
       "      <th></th>\n",
       "      <th>constant</th>\n",
       "      <th>area</th>\n",
       "      <th>beds</th>\n",
       "      <th>baths</th>\n",
       "      <th>garage</th>\n",
       "      <th>age</th>\n",
       "      <th>lotsize</th>\n",
       "      <th>style_2</th>\n",
       "      <th>style_3</th>\n",
       "      <th>style_4</th>\n",
       "      <th>style_5</th>\n",
       "      <th>style_6</th>\n",
       "      <th>style_7</th>\n",
       "      <th>style_9</th>\n",
       "      <th>ac_YES</th>\n",
       "      <th>pool_YES</th>\n",
       "      <th>quality_LOW</th>\n",
       "      <th>quality_MEDIUM</th>\n",
       "      <th>highway_YES</th>\n",
       "    </tr>\n",
       "  </thead>\n",
       "  <tbody>\n",
       "    <tr>\n",
       "      <th>0</th>\n",
       "      <td>1</td>\n",
       "      <td>3150</td>\n",
       "      <td>2</td>\n",
       "      <td>3</td>\n",
       "      <td>2</td>\n",
       "      <td>5</td>\n",
       "      <td>26250</td>\n",
       "      <td>0</td>\n",
       "      <td>0</td>\n",
       "      <td>0</td>\n",
       "      <td>0</td>\n",
       "      <td>0</td>\n",
       "      <td>0</td>\n",
       "      <td>0</td>\n",
       "      <td>1</td>\n",
       "      <td>1</td>\n",
       "      <td>0</td>\n",
       "      <td>0</td>\n",
       "      <td>0</td>\n",
       "    </tr>\n",
       "  </tbody>\n",
       "</table>\n",
       "</div>"
      ],
      "text/plain": [
       "   constant  area  beds  baths  garage  age  lotsize  style_2  style_3  \\\n",
       "0         1  3150     2      3       2    5    26250        0        0   \n",
       "\n",
       "   style_4  style_5  style_6  style_7  style_9  ac_YES  pool_YES  quality_LOW  \\\n",
       "0        0        0        0        0        0       1         1            0   \n",
       "\n",
       "   quality_MEDIUM  highway_YES  \n",
       "0               0            0  "
      ]
     },
     "execution_count": 535,
     "metadata": {},
     "output_type": "execute_result"
    }
   ],
   "source": [
    "df4=pd.DataFrame({\"constant\":[1],\"area\":[3150],\"beds\":[2],\"baths\":[3],\"garage\":[2],\"age\":[5],\"lotsize\":[26250],\"style_2\":[0],\"style_3\":[0],\n",
    "                  \"style_4\":[0],\"style_5\":[0],\"style_6\":[0],\"style_7\":[0],\"style_9\":[0],\n",
    "  \"ac_YES\":[1],\n",
    "  \"pool_YES\":[1],\n",
    "  \"quality_LOW\":[0],\n",
    "\"quality_MEDIUM\":[0],\n",
    "  \"highway_YES\":[0]})\n",
    "df4"
   ]
  },
  {
   "cell_type": "code",
   "execution_count": 536,
   "metadata": {},
   "outputs": [
    {
     "data": {
      "text/html": [
       "<div>\n",
       "<style scoped>\n",
       "    .dataframe tbody tr th:only-of-type {\n",
       "        vertical-align: middle;\n",
       "    }\n",
       "\n",
       "    .dataframe tbody tr th {\n",
       "        vertical-align: top;\n",
       "    }\n",
       "\n",
       "    .dataframe thead th {\n",
       "        text-align: right;\n",
       "    }\n",
       "</style>\n",
       "<table border=\"1\" class=\"dataframe\">\n",
       "  <thead>\n",
       "    <tr style=\"text-align: right;\">\n",
       "      <th></th>\n",
       "      <th>mean</th>\n",
       "      <th>mean_se</th>\n",
       "      <th>mean_ci_lower</th>\n",
       "      <th>mean_ci_upper</th>\n",
       "      <th>obs_ci_lower</th>\n",
       "      <th>obs_ci_upper</th>\n",
       "    </tr>\n",
       "  </thead>\n",
       "  <tbody>\n",
       "    <tr>\n",
       "      <th>0</th>\n",
       "      <td>585922.526796</td>\n",
       "      <td>15323.494616</td>\n",
       "      <td>555803.458271</td>\n",
       "      <td>616041.595321</td>\n",
       "      <td>479849.693761</td>\n",
       "      <td>691995.359832</td>\n",
       "    </tr>\n",
       "  </tbody>\n",
       "</table>\n",
       "</div>"
      ],
      "text/plain": [
       "            mean       mean_se  mean_ci_lower  mean_ci_upper   obs_ci_lower  \\\n",
       "0  585922.526796  15323.494616  555803.458271  616041.595321  479849.693761   \n",
       "\n",
       "    obs_ci_upper  \n",
       "0  691995.359832  "
      ]
     },
     "execution_count": 536,
     "metadata": {},
     "output_type": "execute_result"
    }
   ],
   "source": [
    "predictions = m3.get_prediction(df4)\n",
    "predictions.summary_frame(alpha=0.05)"
   ]
  },
  {
   "cell_type": "markdown",
   "metadata": {},
   "source": [
    "#### 8 Answer. The prediction interval for the price of a house is between 479849 and 691995.(which is the prediction price for a specified condition)"
   ]
  },
  {
   "cell_type": "code",
   "execution_count": null,
   "metadata": {},
   "outputs": [],
   "source": []
  }
 ],
 "metadata": {
  "kernelspec": {
   "display_name": "Python 3",
   "language": "python",
   "name": "python3"
  },
  "language_info": {
   "codemirror_mode": {
    "name": "ipython",
    "version": 3
   },
   "file_extension": ".py",
   "mimetype": "text/x-python",
   "name": "python",
   "nbconvert_exporter": "python",
   "pygments_lexer": "ipython3",
   "version": "3.7.3"
  }
 },
 "nbformat": 4,
 "nbformat_minor": 2
}
